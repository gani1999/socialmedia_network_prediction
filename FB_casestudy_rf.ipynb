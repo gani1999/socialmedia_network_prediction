{
 "cells": [
  {
   "cell_type": "markdown",
   "metadata": {
    "colab_type": "text",
    "id": "_ngfVeOrX7If"
   },
   "source": [
    "<p style=\"font-size:32px;text-align:center\"> <b>Social network Graph Link Prediction - Facebook Challenge</b> </p>"
   ]
  },
  {
   "cell_type": "markdown",
   "metadata": {
    "colab_type": "text",
    "id": "BIdTcywoX7Ih"
   },
   "source": [
    "### Problem statement: \n",
    "Given a directed social graph, have to predict missing links to recommend users (Link Prediction in graph)"
   ]
  },
  {
   "cell_type": "code",
   "execution_count": 1,
   "metadata": {
    "colab": {},
    "colab_type": "code",
    "id": "jGe4BKx9X7Im"
   },
   "outputs": [],
   "source": [
    "#Importing Libraries\n",
    "# please do go through this python notebook: \n",
    "import warnings\n",
    "warnings.filterwarnings(\"ignore\")\n",
    "\n",
    "import csv\n",
    "import pandas as pd#pandas to create small dataframes \n",
    "import datetime #Convert to unix time\n",
    "import time #Convert to unix time\n",
    "# if numpy is not installed already : pip3 install numpy\n",
    "import numpy as np#Do aritmetic operations on arrays\n",
    "# matplotlib: used to plot graphs\n",
    "import matplotlib.pylab as plt\n",
    "import seaborn as sns#Plots\n",
    "from matplotlib import rcParams#Size of plots  \n",
    "from sklearn.cluster import MiniBatchKMeans, KMeans#Clustering\n",
    "import math\n",
    "import pickle\n",
    "import os\n",
    "# to install xgboost: pip3 install xgboost\n",
    "import xgboost as xgb\n",
    "\n",
    "import networkx as nx\n",
    "import pdb"
   ]
  },
  {
   "cell_type": "code",
   "execution_count": 2,
   "metadata": {},
   "outputs": [],
   "source": [
    "from pandas import HDFStore,DataFrame\n",
    "from pandas import read_hdf"
   ]
  },
  {
   "cell_type": "code",
   "execution_count": 3,
   "metadata": {
    "colab": {},
    "colab_type": "code",
    "id": "OOi4aONAX7Iv",
    "outputId": "b413d19f-8322-43df-c9da-d88a60d5fe1c"
   },
   "outputs": [
    {
     "name": "stdout",
     "output_type": "stream",
     "text": [
      "Name: \n",
      "Type: DiGraph\n",
      "Number of nodes: 1862220\n",
      "Number of edges: 9437519\n",
      "Average in degree:   5.0679\n",
      "Average out degree:   5.0679\n"
     ]
    }
   ],
   "source": [
    "#reading graph\n",
    "if not os.path.isfile('data/after_eda/train_woheader.csv'):\n",
    "    traincsv = pd.read_csv('data/train.csv')\n",
    "    print(traincsv[traincsv.isna().any(1)])\n",
    "    print(traincsv.info())\n",
    "    print(\"Number of diplicate entries: \",sum(traincsv.duplicated()))\n",
    "    traincsv.to_csv('data/after_eda/train_woheader.csv',header=False,index=False)\n",
    "    print(\"saved the graph into file\")\n",
    "else:\n",
    "    g=nx.read_edgelist('data/after_eda/train_woheader.csv',delimiter=',',create_using=nx.DiGraph(),nodetype=int)\n",
    "    print(nx.info(g))"
   ]
  },
  {
   "cell_type": "markdown",
   "metadata": {
    "colab_type": "text",
    "id": "ba1XVmouX7I2"
   },
   "source": [
    "> Displaying a sub graph"
   ]
  },
  {
   "cell_type": "code",
   "execution_count": 4,
   "metadata": {
    "colab": {},
    "colab_type": "code",
    "id": "rvhGErEXX7I3",
    "outputId": "3211434c-3826-4d98-af7e-949329c2906a"
   },
   "outputs": [
    {
     "name": "stdout",
     "output_type": "stream",
     "text": [
      "Name: \n",
      "Type: DiGraph\n",
      "Number of nodes: 66\n",
      "Number of edges: 50\n",
      "Average in degree:   0.7576\n",
      "Average out degree:   0.7576\n"
     ]
    }
   ],
   "source": [
    "if not os.path.isfile('train_woheader_sample.csv'):\n",
    "    pd.read_csv('data/train.csv', nrows=50).to_csv('train_woheader_sample.csv',header=False,index=False)\n",
    "    \n",
    "subgraph=nx.read_edgelist('train_woheader_sample.csv',delimiter=',',create_using=nx.DiGraph(),nodetype=int)\n",
    "# https://stackoverflow.com/questions/9402255/drawing-a-huge-graph-with-networkx-and-matplotlib\n",
    "\n",
    "pos=nx.spring_layout(subgraph)\n",
    "#nx.draw(subgraph,pos,node_color='#A0CBE2',edge_color='#00bb5e',width=1,edge_cmap=plt.cm.Blues,with_labels=True)\n",
    "#plt.savefig(\"graph_sample.pdf\")\n",
    "print(nx.info(subgraph))"
   ]
  },
  {
   "cell_type": "markdown",
   "metadata": {
    "colab_type": "text",
    "id": "QirDnZ-FX7I8"
   },
   "source": [
    "# 1. Exploratory Data Analysis"
   ]
  },
  {
   "cell_type": "code",
   "execution_count": 5,
   "metadata": {
    "colab": {},
    "colab_type": "code",
    "id": "gdlTIj97X7I9",
    "outputId": "2e956d78-2d25-45be-e390-fa64bd98225c"
   },
   "outputs": [
    {
     "name": "stdout",
     "output_type": "stream",
     "text": [
      "The number of unique persons 1862220\n"
     ]
    }
   ],
   "source": [
    "# No of Unique persons \n",
    "print(\"The number of unique persons\",len(g.nodes()))"
   ]
  },
  {
   "cell_type": "markdown",
   "metadata": {
    "colab_type": "text",
    "id": "BdvJPYMHX7JC"
   },
   "source": [
    "## 1.1 No of followers for each person"
   ]
  },
  {
   "cell_type": "code",
   "execution_count": 6,
   "metadata": {
    "colab": {},
    "colab_type": "code",
    "id": "4fFEbqiSX7JD",
    "outputId": "d4aab961-ab7b-44c8-a6b0-de6c9ed04691"
   },
   "outputs": [
    {
     "data": {
      "image/png": "[encoded data removed]",
      "text/plain": [
       "<Figure size 720x432 with 1 Axes>"
      ]
     },
     "metadata": {
      "needs_background": "light"
     },
     "output_type": "display_data"
    }
   ],
   "source": [
    "indegree_dist = list(dict(g.in_degree()).values())\n",
    "indegree_dist.sort()\n",
    "plt.figure(figsize=(10,6))\n",
    "plt.plot(indegree_dist)\n",
    "plt.xlabel('Index No')\n",
    "plt.ylabel('No Of Followers')\n",
    "plt.show()"
   ]
  },
  {
   "cell_type": "code",
   "execution_count": 7,
   "metadata": {
    "colab": {},
    "colab_type": "code",
    "id": "CZPczewbX7JL",
    "outputId": "ef79e2c1-ccc2-4d11-915d-01bee576f0a2"
   },
   "outputs": [
    {
     "data": {
      "image/png": "[encoded data removed]",
      "text/plain": [
       "<Figure size 720x432 with 1 Axes>"
      ]
     },
     "metadata": {
      "needs_background": "light"
     },
     "output_type": "display_data"
    }
   ],
   "source": [
    "indegree_dist = list(dict(g.in_degree()).values())\n",
    "indegree_dist.sort()\n",
    "plt.figure(figsize=(10,6))\n",
    "plt.plot(indegree_dist[0:1500000])\n",
    "plt.xlabel('Index No')\n",
    "plt.ylabel('No Of Followers')\n",
    "plt.show()"
   ]
  },
  {
   "cell_type": "code",
   "execution_count": 8,
   "metadata": {
    "colab": {},
    "colab_type": "code",
    "id": "Wqf9qkr_X7JS",
    "outputId": "6e880aa0-6fe3-4d22-e813-85141dab0678"
   },
   "outputs": [
    {
     "data": {
      "image/png": "[encoded data removed]",
      "text/plain": [
       "<Figure size 432x288 with 1 Axes>"
      ]
     },
     "metadata": {
      "needs_background": "light"
     },
     "output_type": "display_data"
    }
   ],
   "source": [
    "plt.boxplot(indegree_dist)\n",
    "plt.ylabel('No Of Followers')\n",
    "plt.show()"
   ]
  },
  {
   "cell_type": "code",
   "execution_count": 9,
   "metadata": {
    "colab": {},
    "colab_type": "code",
    "id": "5q9wSyvGX7JY",
    "outputId": "54a2deaa-d1f0-487d-d6ab-84d1645be6ed"
   },
   "outputs": [
    {
     "name": "stdout",
     "output_type": "stream",
     "text": [
      "90 percentile value is 12.0\n",
      "91 percentile value is 13.0\n",
      "92 percentile value is 14.0\n",
      "93 percentile value is 15.0\n",
      "94 percentile value is 17.0\n",
      "95 percentile value is 19.0\n",
      "96 percentile value is 21.0\n",
      "97 percentile value is 24.0\n",
      "98 percentile value is 29.0\n",
      "99 percentile value is 40.0\n",
      "100 percentile value is 552.0\n"
     ]
    }
   ],
   "source": [
    "### 90-100 percentile\n",
    "for i in range(0,11):\n",
    "    print(90+i,'percentile value is',np.percentile(indegree_dist,90+i))"
   ]
  },
  {
   "cell_type": "markdown",
   "metadata": {
    "colab_type": "text",
    "id": "9HvreJYlX7Jf"
   },
   "source": [
    "99% of data having followers of 40 only."
   ]
  },
  {
   "cell_type": "code",
   "execution_count": 10,
   "metadata": {
    "colab": {},
    "colab_type": "code",
    "id": "mt8DA-MmX7Jg",
    "outputId": "0ac13b00-ca01-4baf-cb93-fc50efc2959b"
   },
   "outputs": [
    {
     "name": "stdout",
     "output_type": "stream",
     "text": [
      "99.1 percentile value is 42.0\n",
      "99.2 percentile value is 44.0\n",
      "99.3 percentile value is 47.0\n",
      "99.4 percentile value is 50.0\n",
      "99.5 percentile value is 55.0\n",
      "99.6 percentile value is 61.0\n",
      "99.7 percentile value is 70.0\n",
      "99.8 percentile value is 84.0\n",
      "99.9 percentile value is 112.0\n",
      "100.0 percentile value is 552.0\n"
     ]
    }
   ],
   "source": [
    "### 99-100 percentile\n",
    "for i in range(10,110,10):\n",
    "    print(99+(i/100),'percentile value is',np.percentile(indegree_dist,99+(i/100)))"
   ]
  },
  {
   "cell_type": "code",
   "execution_count": 11,
   "metadata": {
    "colab": {},
    "colab_type": "code",
    "id": "hZQed_RqX7Jk",
    "outputId": "bb5921e4-c9f5-48b8-c0d7-963d86cc9f99"
   },
   "outputs": [
    {
     "data": {
      "image/png": "[encoded data removed]",
      "text/plain": [
       "<Figure size 842.4x595.44 with 1 Axes>"
      ]
     },
     "metadata": {},
     "output_type": "display_data"
    }
   ],
   "source": [
    "%matplotlib inline\n",
    "sns.set_style('ticks')\n",
    "fig, ax = plt.subplots()\n",
    "fig.set_size_inches(11.7, 8.27)\n",
    "sns.distplot(indegree_dist, color='#16A085')\n",
    "plt.xlabel('PDF of Indegree')\n",
    "sns.despine()\n",
    "#plt.show()"
   ]
  },
  {
   "cell_type": "markdown",
   "metadata": {
    "colab_type": "text",
    "id": "F_rfNRYCX7Jx"
   },
   "source": [
    "## 1.2 No of people each person is following"
   ]
  },
  {
   "cell_type": "code",
   "execution_count": 12,
   "metadata": {
    "colab": {},
    "colab_type": "code",
    "id": "L-2plpMuX7Jy",
    "outputId": "1355b363-1079-44e5-d062-ee352036d126"
   },
   "outputs": [
    {
     "data": {
      "image/png": "[encoded data removed]",
      "text/plain": [
       "<Figure size 720x432 with 1 Axes>"
      ]
     },
     "metadata": {},
     "output_type": "display_data"
    }
   ],
   "source": [
    "outdegree_dist = list(dict(g.out_degree()).values())\n",
    "outdegree_dist.sort()\n",
    "plt.figure(figsize=(10,6))\n",
    "plt.plot(outdegree_dist)\n",
    "plt.xlabel('Index No')\n",
    "plt.ylabel('No Of people each person is following')\n",
    "plt.show()"
   ]
  },
  {
   "cell_type": "code",
   "execution_count": 13,
   "metadata": {
    "colab": {},
    "colab_type": "code",
    "id": "aNaQeE5cX7J2",
    "outputId": "c59a155f-c894-4600-9daf-35a45f7c8d4d"
   },
   "outputs": [
    {
     "data": {
      "image/png": "[encoded data removed]",
      "text/plain": [
       "<Figure size 720x432 with 1 Axes>"
      ]
     },
     "metadata": {},
     "output_type": "display_data"
    }
   ],
   "source": [
    "indegree_dist = list(dict(g.in_degree()).values())\n",
    "indegree_dist.sort()\n",
    "plt.figure(figsize=(10,6))\n",
    "plt.plot(outdegree_dist[0:1500000])\n",
    "plt.xlabel('Index No')\n",
    "plt.ylabel('No Of people each person is following')\n",
    "plt.show()"
   ]
  },
  {
   "cell_type": "code",
   "execution_count": 14,
   "metadata": {
    "colab": {},
    "colab_type": "code",
    "id": "HVYdHvLAX7J7",
    "outputId": "da8978d6-76fe-400c-ff7d-ff60d2303efb"
   },
   "outputs": [
    {
     "data": {
      "image/png": "[encoded data removed]",
      "text/plain": [
       "<Figure size 432x288 with 1 Axes>"
      ]
     },
     "metadata": {},
     "output_type": "display_data"
    }
   ],
   "source": [
    "plt.boxplot(indegree_dist)\n",
    "plt.ylabel('No Of people each person is following')\n",
    "plt.show()"
   ]
  },
  {
   "cell_type": "code",
   "execution_count": 15,
   "metadata": {
    "colab": {},
    "colab_type": "code",
    "id": "FVGmz09xX7KB",
    "outputId": "e2058803-7251-4836-df99-28075908ae99"
   },
   "outputs": [
    {
     "name": "stdout",
     "output_type": "stream",
     "text": [
      "90 percentile value is 12.0\n",
      "91 percentile value is 13.0\n",
      "92 percentile value is 14.0\n",
      "93 percentile value is 15.0\n",
      "94 percentile value is 17.0\n",
      "95 percentile value is 19.0\n",
      "96 percentile value is 21.0\n",
      "97 percentile value is 24.0\n",
      "98 percentile value is 29.0\n",
      "99 percentile value is 40.0\n",
      "100 percentile value is 1566.0\n"
     ]
    }
   ],
   "source": [
    "### 90-100 percentile\n",
    "for i in range(0,11):\n",
    "    print(90+i,'percentile value is',np.percentile(outdegree_dist,90+i))"
   ]
  },
  {
   "cell_type": "code",
   "execution_count": 16,
   "metadata": {
    "colab": {},
    "colab_type": "code",
    "id": "zcNoTvuzX7KF",
    "outputId": "b74b3bc9-146e-4106-b3df-af5f2a8938a0"
   },
   "outputs": [
    {
     "name": "stdout",
     "output_type": "stream",
     "text": [
      "99.1 percentile value is 42.0\n",
      "99.2 percentile value is 45.0\n",
      "99.3 percentile value is 48.0\n",
      "99.4 percentile value is 52.0\n",
      "99.5 percentile value is 56.0\n",
      "99.6 percentile value is 63.0\n",
      "99.7 percentile value is 73.0\n",
      "99.8 percentile value is 90.0\n",
      "99.9 percentile value is 123.0\n",
      "100.0 percentile value is 1566.0\n"
     ]
    }
   ],
   "source": [
    "### 99-100 percentile\n",
    "for i in range(10,110,10):\n",
    "    print(99+(i/100),'percentile value is',np.percentile(outdegree_dist,99+(i/100)))"
   ]
  },
  {
   "cell_type": "code",
   "execution_count": 17,
   "metadata": {
    "colab": {},
    "colab_type": "code",
    "id": "27t51jOjX7KK",
    "outputId": "9655f989-f453-47db-be7b-732351ee3db3"
   },
   "outputs": [
    {
     "data": {
      "image/png": "[encoded data removed]",
      "text/plain": [
       "<Figure size 842.4x595.44 with 1 Axes>"
      ]
     },
     "metadata": {},
     "output_type": "display_data"
    }
   ],
   "source": [
    "sns.set_style('ticks')\n",
    "fig, ax = plt.subplots()\n",
    "fig.set_size_inches(11.7, 8.27)\n",
    "sns.distplot(outdegree_dist, color='#16A085')\n",
    "plt.xlabel('PDF of Outdegree')\n",
    "sns.despine()"
   ]
  },
  {
   "cell_type": "code",
   "execution_count": 18,
   "metadata": {
    "colab": {},
    "colab_type": "code",
    "id": "9LOGY_CyX7KT",
    "outputId": "eb5a2706-7829-4f99-c46d-84b0f7d03328"
   },
   "outputs": [
    {
     "name": "stdout",
     "output_type": "stream",
     "text": [
      "No of persons those are not following anyone are 274512 and % is 14.741115442858524\n"
     ]
    }
   ],
   "source": [
    "print('No of persons those are not following anyone are' ,sum(np.array(outdegree_dist)==0),'and % is',\n",
    "                                sum(np.array(outdegree_dist)==0)*100/len(outdegree_dist) )"
   ]
  },
  {
   "cell_type": "code",
   "execution_count": 19,
   "metadata": {
    "colab": {},
    "colab_type": "code",
    "id": "hi30e3RmX7KX",
    "outputId": "f2feffac-585d-42ed-937f-5b61e1023040"
   },
   "outputs": [
    {
     "name": "stdout",
     "output_type": "stream",
     "text": [
      "No of persons having zero followers are 188043 and % is 10.097786512871734\n"
     ]
    }
   ],
   "source": [
    "print('No of persons having zero followers are' ,sum(np.array(indegree_dist)==0),'and % is',\n",
    "                                sum(np.array(indegree_dist)==0)*100/len(indegree_dist) )"
   ]
  },
  {
   "cell_type": "code",
   "execution_count": 20,
   "metadata": {
    "colab": {},
    "colab_type": "code",
    "id": "rzX8vbh5X7Kc",
    "outputId": "0fa6651f-4449-478f-a480-e289b9706afd"
   },
   "outputs": [
    {
     "name": "stdout",
     "output_type": "stream",
     "text": [
      "No of persons those are not not following anyone and also not having any followers are 0\n"
     ]
    }
   ],
   "source": [
    "count=0\n",
    "for i in g.nodes():\n",
    "    if len(list(g.predecessors(i)))==0 :\n",
    "        if len(list(g.successors(i)))==0:\n",
    "            count+=1\n",
    "print('No of persons those are not not following anyone and also not having any followers are',count)"
   ]
  },
  {
   "cell_type": "markdown",
   "metadata": {
    "colab_type": "text",
    "id": "J7tiBqS3X7Kh"
   },
   "source": [
    "## 1.3 both followers + following "
   ]
  },
  {
   "cell_type": "code",
   "execution_count": 21,
   "metadata": {
    "colab": {},
    "colab_type": "code",
    "id": "MNu7k3-FX7Kj"
   },
   "outputs": [],
   "source": [
    "from collections import Counter\n",
    "dict_in = dict(g.in_degree())\n",
    "dict_out = dict(g.out_degree())\n",
    "d = Counter(dict_in) + Counter(dict_out)\n",
    "in_out_degree = np.array(list(d.values()))"
   ]
  },
  {
   "cell_type": "code",
   "execution_count": 22,
   "metadata": {
    "colab": {},
    "colab_type": "code",
    "id": "ARCqfS9TX7Kn",
    "outputId": "44fe1bc9-a591-4cff-89aa-e36c0f7165e5"
   },
   "outputs": [
    {
     "data": {
      "image/png": "[encoded data removed]",
      "text/plain": [
       "<Figure size 720x432 with 1 Axes>"
      ]
     },
     "metadata": {},
     "output_type": "display_data"
    }
   ],
   "source": [
    "in_out_degree_sort = sorted(in_out_degree)\n",
    "plt.figure(figsize=(10,6))\n",
    "plt.plot(in_out_degree_sort)\n",
    "plt.xlabel('Index No')\n",
    "plt.ylabel('No Of people each person is following + followers')\n",
    "plt.show()"
   ]
  },
  {
   "cell_type": "code",
   "execution_count": 23,
   "metadata": {
    "colab": {},
    "colab_type": "code",
    "id": "jVlgsM8hX7Ku",
    "outputId": "28758bec-8303-4a93-f4a9-b637cb14efe0"
   },
   "outputs": [
    {
     "data": {
      "image/png": "[encoded data removed]",
      "text/plain": [
       "<Figure size 720x432 with 1 Axes>"
      ]
     },
     "metadata": {},
     "output_type": "display_data"
    }
   ],
   "source": [
    "in_out_degree_sort = sorted(in_out_degree)\n",
    "plt.figure(figsize=(10,6))\n",
    "plt.plot(in_out_degree_sort[0:1500000])\n",
    "plt.xlabel('Index No')\n",
    "plt.ylabel('No Of people each person is following + followers')\n",
    "plt.show()"
   ]
  },
  {
   "cell_type": "code",
   "execution_count": 24,
   "metadata": {
    "colab": {},
    "colab_type": "code",
    "id": "4YpW20YEX7Kz",
    "outputId": "ba104e55-fae4-4a81-b2b6-887c804e6c6a"
   },
   "outputs": [
    {
     "name": "stdout",
     "output_type": "stream",
     "text": [
      "90 percentile value is 24.0\n",
      "91 percentile value is 26.0\n",
      "92 percentile value is 28.0\n",
      "93 percentile value is 31.0\n",
      "94 percentile value is 33.0\n",
      "95 percentile value is 37.0\n",
      "96 percentile value is 41.0\n",
      "97 percentile value is 48.0\n",
      "98 percentile value is 58.0\n",
      "99 percentile value is 79.0\n",
      "100 percentile value is 1579.0\n"
     ]
    }
   ],
   "source": [
    "### 90-100 percentile\n",
    "for i in range(0,11):\n",
    "    print(90+i,'percentile value is',np.percentile(in_out_degree_sort,90+i))"
   ]
  },
  {
   "cell_type": "code",
   "execution_count": 25,
   "metadata": {
    "colab": {},
    "colab_type": "code",
    "id": "LclmrhGbX7K3",
    "outputId": "43440486-b332-476b-a769-43e43e23600d"
   },
   "outputs": [
    {
     "name": "stdout",
     "output_type": "stream",
     "text": [
      "99.1 percentile value is 83.0\n",
      "99.2 percentile value is 87.0\n",
      "99.3 percentile value is 93.0\n",
      "99.4 percentile value is 99.0\n",
      "99.5 percentile value is 108.0\n",
      "99.6 percentile value is 120.0\n",
      "99.7 percentile value is 138.0\n",
      "99.8 percentile value is 168.0\n",
      "99.9 percentile value is 221.0\n",
      "100.0 percentile value is 1579.0\n"
     ]
    }
   ],
   "source": [
    "### 99-100 percentile\n",
    "for i in range(10,110,10):\n",
    "    print(99+(i/100),'percentile value is',np.percentile(in_out_degree_sort,99+(i/100)))"
   ]
  },
  {
   "cell_type": "code",
   "execution_count": 26,
   "metadata": {
    "colab": {},
    "colab_type": "code",
    "id": "XqErF9SRX7K8",
    "outputId": "11746c24-4d22-4466-f2bf-8dae306ee408"
   },
   "outputs": [
    {
     "name": "stdout",
     "output_type": "stream",
     "text": [
      "Min of no of followers + following is 1\n",
      "334291  persons having minimum no of followers + following\n"
     ]
    }
   ],
   "source": [
    "print('Min of no of followers + following is',in_out_degree.min())\n",
    "print(np.sum(in_out_degree==in_out_degree.min()),' persons having minimum no of followers + following')"
   ]
  },
  {
   "cell_type": "code",
   "execution_count": 27,
   "metadata": {
    "colab": {},
    "colab_type": "code",
    "id": "4rjy0p8-X7LA",
    "outputId": "e3d20325-27e8-44f3-f0ea-18aa395e687c"
   },
   "outputs": [
    {
     "name": "stdout",
     "output_type": "stream",
     "text": [
      "Max of no of followers + following is 1579\n",
      "1  persons having maximum no of followers + following\n"
     ]
    }
   ],
   "source": [
    "print('Max of no of followers + following is',in_out_degree.max())\n",
    "print(np.sum(in_out_degree==in_out_degree.max()),' persons having maximum no of followers + following')"
   ]
  },
  {
   "cell_type": "code",
   "execution_count": 28,
   "metadata": {
    "colab": {},
    "colab_type": "code",
    "id": "2vkQHuVgX7LE",
    "outputId": "c4bd961f-a5a9-45b7-d700-f8f368d6772d"
   },
   "outputs": [
    {
     "name": "stdout",
     "output_type": "stream",
     "text": [
      "No of persons having followers + following less than 10 are 1320326\n"
     ]
    }
   ],
   "source": [
    "print('No of persons having followers + following less than 10 are',np.sum(in_out_degree<10))"
   ]
  },
  {
   "cell_type": "code",
   "execution_count": 29,
   "metadata": {
    "colab": {},
    "colab_type": "code",
    "id": "9YXunWI-X7LI",
    "outputId": "00c2e979-fcfc-412f-8a02-26bac9c912ff"
   },
   "outputs": [
    {
     "name": "stdout",
     "output_type": "stream",
     "text": [
      "No of weakly connected components 45558\n",
      "weakly connected components wit 2 nodes 32195\n"
     ]
    }
   ],
   "source": [
    "print('No of weakly connected components',len(list(nx.weakly_connected_components(g))))\n",
    "count=0\n",
    "for i in list(nx.weakly_connected_components(g)):\n",
    "    if len(i)==2:\n",
    "        count+=1\n",
    "print('weakly connected components wit 2 nodes',count)"
   ]
  },
  {
   "cell_type": "markdown",
   "metadata": {
    "colab_type": "text",
    "id": "RiPVIlFUX7LQ"
   },
   "source": [
    "# 2. Posing a problem as classification problem "
   ]
  },
  {
   "cell_type": "markdown",
   "metadata": {
    "colab_type": "text",
    "id": "TpDCmJroX7LS"
   },
   "source": [
    "## 2.1 Generating some edges which are not present in graph for supervised learning  \n",
    "Generated Bad links from graph which are not in graph and whose shortest path is greater than 2. "
   ]
  },
  {
   "cell_type": "code",
   "execution_count": 30,
   "metadata": {
    "colab": {},
    "colab_type": "code",
    "id": "3K2YQD6ZX7LT",
    "outputId": "03656e72-53e4-4239-8227-c0ffe9f535d1"
   },
   "outputs": [
    {
     "name": "stdout",
     "output_type": "stream",
     "text": [
      "Wall time: 2.69 s\n"
     ]
    }
   ],
   "source": [
    "%%time\n",
    "###generating bad edges from given graph\n",
    "import random\n",
    "if not os.path.isfile('data/after_eda/missing_edges_final.p'):\n",
    "    #getting all set of edges\n",
    "    r = csv.reader(open('data/after_eda/train_woheader.csv','r'))\n",
    "    edges = dict()\n",
    "    for edge in r:\n",
    "        edges[(edge[0], edge[1])] = 1\n",
    "        \n",
    "        \n",
    "    missing_edges = set([])\n",
    "    while (len(missing_edges)<9437519):\n",
    "        a=random.randint(1, 1862220)\n",
    "        b=random.randint(1, 1862220)\n",
    "        tmp = edges.get((a,b),-1)\n",
    "        if tmp == -1 and a!=b:\n",
    "            try:\n",
    "                if nx.shortest_path_length(g,source=a,target=b) > 2: \n",
    "\n",
    "                    missing_edges.add((a,b))\n",
    "                else:\n",
    "                    continue  \n",
    "            except:  \n",
    "                    missing_edges.add((a,b))              \n",
    "        else:\n",
    "            continue\n",
    "    pickle.dump(missing_edges,open('data/after_eda/missing_edges_final.p','wb'))\n",
    "else:\n",
    "    missing_edges = pickle.load(open('data/after_eda/missing_edges_final.p','rb'))"
   ]
  },
  {
   "cell_type": "code",
   "execution_count": 31,
   "metadata": {
    "colab": {},
    "colab_type": "code",
    "id": "vrjL2UAmX7LX",
    "outputId": "8596ad2d-6c45-4c14-e377-3c06850b661d"
   },
   "outputs": [
    {
     "data": {
      "text/plain": [
       "9437519"
      ]
     },
     "execution_count": 31,
     "metadata": {},
     "output_type": "execute_result"
    }
   ],
   "source": [
    "len(missing_edges)"
   ]
  },
  {
   "cell_type": "markdown",
   "metadata": {
    "colab_type": "text",
    "id": "LA2GGc3lX7Lb"
   },
   "source": [
    "## 2.2 Training and Test data split:  \n",
    "Removed edges from Graph and used as test data and after removing used that graph for creating features for Train and test data"
   ]
  },
  {
   "cell_type": "code",
   "execution_count": 32,
   "metadata": {
    "colab": {},
    "colab_type": "code",
    "id": "hmcOk-nkX7Lb",
    "outputId": "891d417c-069b-4236-e3ba-35b2bbfc252d"
   },
   "outputs": [],
   "source": [
    "from sklearn.model_selection import train_test_split\n",
    "if (not os.path.isfile('data/after_eda/train_pos_after_eda.csv')) and (not os.path.isfile('data/after_eda/test_pos_after_eda.csv')):\n",
    "    #reading total data df\n",
    "    df_pos = pd.read_csv('data/train.csv')\n",
    "    df_neg = pd.DataFrame(list(missing_edges), columns=['source_node', 'destination_node'])\n",
    "    \n",
    "    print(\"Number of nodes in the graph with edges\", df_pos.shape[0])\n",
    "    print(\"Number of nodes in the graph without edges\", df_neg.shape[0])\n",
    "    \n",
    "    #Trian test split \n",
    "    #Spiltted data into 80-20 \n",
    "    #positive links and negative links seperatly because we need positive training data only for creating graph \n",
    "    #and for feature generation\n",
    "    X_train_pos, X_test_pos, y_train_pos, y_test_pos  = train_test_split(df_pos,np.ones(len(df_pos)),test_size=0.2, random_state=9)\n",
    "    X_train_neg, X_test_neg, y_train_neg, y_test_neg  = train_test_split(df_neg,np.zeros(len(df_neg)),test_size=0.2, random_state=9)\n",
    "    \n",
    "    print('='*60)\n",
    "    print(\"Number of nodes in the train data graph with edges\", X_train_pos.shape[0],\"=\",y_train_pos.shape[0])\n",
    "    print(\"Number of nodes in the train data graph without edges\", X_train_neg.shape[0],\"=\", y_train_neg.shape[0])\n",
    "    print('='*60)\n",
    "    print(\"Number of nodes in the test data graph with edges\", X_test_pos.shape[0],\"=\",y_test_pos.shape[0])\n",
    "    print(\"Number of nodes in the test data graph without edges\", X_test_neg.shape[0],\"=\",y_test_neg.shape[0])\n",
    "\n",
    "    #removing header and saving\n",
    "    X_train_pos.to_csv('data/after_eda/train_pos_after_eda.csv',header=False, index=False)\n",
    "    X_test_pos.to_csv('data/after_eda/test_pos_after_eda.csv',header=False, index=False)\n",
    "    X_train_neg.to_csv('data/after_eda/train_neg_after_eda.csv',header=False, index=False)\n",
    "    X_test_neg.to_csv('data/after_eda/test_neg_after_eda.csv',header=False, index=False)\n",
    "else:\n",
    "    #Graph from Traing data only \n",
    "    del missing_edges"
   ]
  },
  {
   "cell_type": "code",
   "execution_count": 33,
   "metadata": {
    "colab": {},
    "colab_type": "code",
    "id": "Wj9OwIX6X7Lh",
    "outputId": "8a11e605-e133-4b3d-c2d2-585021be9cdc"
   },
   "outputs": [
    {
     "name": "stdout",
     "output_type": "stream",
     "text": [
      "Name: \n",
      "Type: DiGraph\n",
      "Number of nodes: 1780722\n",
      "Number of edges: 7550015\n",
      "Average in degree:   4.2399\n",
      "Average out degree:   4.2399\n",
      "Name: \n",
      "Type: DiGraph\n",
      "Number of nodes: 1144623\n",
      "Number of edges: 1887504\n",
      "Average in degree:   1.6490\n",
      "Average out degree:   1.6490\n",
      "no of people common in train and test --  1063125\n",
      "no of people present in train but not present in test --  717597\n",
      "no of people present in test but not present in train --  81498\n",
      " % of people not there in Train but exist in Test in total Test data are 7.1200735962845405 %\n"
     ]
    }
   ],
   "source": [
    "if (os.path.isfile('data/after_eda/train_pos_after_eda.csv')) and (os.path.isfile('data/after_eda/test_pos_after_eda.csv')):        \n",
    "    train_graph=nx.read_edgelist('data/after_eda/train_pos_after_eda.csv',delimiter=',',create_using=nx.DiGraph(),nodetype=int)\n",
    "    test_graph=nx.read_edgelist('data/after_eda/test_pos_after_eda.csv',delimiter=',',create_using=nx.DiGraph(),nodetype=int)\n",
    "    print(nx.info(train_graph))\n",
    "    print(nx.info(test_graph))\n",
    "\n",
    "    # finding the unique nodes in the both train and test graphs\n",
    "    train_nodes_pos = set(train_graph.nodes())\n",
    "    test_nodes_pos = set(test_graph.nodes())\n",
    "\n",
    "    trY_teY = len(train_nodes_pos.intersection(test_nodes_pos))\n",
    "    trY_teN = len(train_nodes_pos - test_nodes_pos)\n",
    "    teY_trN = len(test_nodes_pos - train_nodes_pos)\n",
    "\n",
    "    print('no of people common in train and test -- ',trY_teY)\n",
    "    print('no of people present in train but not present in test -- ',trY_teN)\n",
    "\n",
    "    print('no of people present in test but not present in train -- ',teY_trN)\n",
    "    print(' % of people not there in Train but exist in Test in total Test data are {} %'.format(teY_trN/len(test_nodes_pos)*100))"
   ]
  },
  {
   "cell_type": "markdown",
   "metadata": {
    "colab_type": "text",
    "id": "OhpyrSuiX7Ll"
   },
   "source": [
    "> we have a cold start problem here"
   ]
  },
  {
   "cell_type": "code",
   "execution_count": 34,
   "metadata": {
    "colab": {},
    "colab_type": "code",
    "id": "onultUqjX7Lm",
    "outputId": "795b2bac-18da-4540-9343-bb69f30a6f00"
   },
   "outputs": [],
   "source": [
    "#final train and test data sets\n",
    "if (not os.path.isfile('data/after_eda/train_after_eda.csv')) and \\\n",
    "(not os.path.isfile('data/after_eda/test_after_eda.csv')) and \\\n",
    "(not os.path.isfile('data/train_y.csv')) and \\\n",
    "(not os.path.isfile('data/test_y.csv')) and \\\n",
    "(os.path.isfile('data/after_eda/train_pos_after_eda.csv')) and \\\n",
    "(os.path.isfile('data/after_eda/test_pos_after_eda.csv')) and \\\n",
    "(os.path.isfile('data/after_eda/train_neg_after_eda.csv')) and \\\n",
    "(os.path.isfile('data/after_eda/test_neg_after_eda.csv')):\n",
    "    \n",
    "    X_train_pos = pd.read_csv('data/after_eda/train_pos_after_eda.csv', names=['source_node', 'destination_node'])\n",
    "    X_test_pos = pd.read_csv('data/after_eda/test_pos_after_eda.csv', names=['source_node', 'destination_node'])\n",
    "    X_train_neg = pd.read_csv('data/after_eda/train_neg_after_eda.csv', names=['source_node', 'destination_node'])\n",
    "    X_test_neg = pd.read_csv('data/after_eda/test_neg_after_eda.csv', names=['source_node', 'destination_node'])\n",
    "\n",
    "    print('='*60)\n",
    "    print(\"Number of nodes in the train data graph with edges\", X_train_pos.shape[0])\n",
    "    print(\"Number of nodes in the train data graph without edges\", X_train_neg.shape[0])\n",
    "    print('='*60)\n",
    "    print(\"Number of nodes in the test data graph with edges\", X_test_pos.shape[0])\n",
    "    print(\"Number of nodes in the test data graph without edges\", X_test_neg.shape[0])\n",
    "\n",
    "    X_train = X_train_pos.append(X_train_neg,ignore_index=True)\n",
    "    y_train = np.concatenate((y_train_pos,y_train_neg))\n",
    "    X_test = X_test_pos.append(X_test_neg,ignore_index=True)\n",
    "    y_test = np.concatenate((y_test_pos,y_test_neg)) \n",
    "    \n",
    "    X_train.to_csv('data/after_eda/train_after_eda.csv',header=False,index=False)\n",
    "    X_test.to_csv('data/after_eda/test_after_eda.csv',header=False,index=False)\n",
    "    pd.DataFrame(y_train.astype(int)).to_csv('data/train_y.csv',header=False,index=False)\n",
    "    pd.DataFrame(y_test.astype(int)).to_csv('data/test_y.csv',header=False,index=False)"
   ]
  },
  {
   "cell_type": "markdown",
   "metadata": {},
   "source": [
    "# 1. Reading Data"
   ]
  },
  {
   "cell_type": "code",
   "execution_count": 36,
   "metadata": {},
   "outputs": [
    {
     "name": "stdout",
     "output_type": "stream",
     "text": [
      "Name: \n",
      "Type: DiGraph\n",
      "Number of nodes: 1780722\n",
      "Number of edges: 7550015\n",
      "Average in degree:   4.2399\n",
      "Average out degree:   4.2399\n"
     ]
    }
   ],
   "source": [
    "if os.path.isfile('data/after_eda/train_pos_after_eda.csv'):\n",
    "    train_graph=nx.read_edgelist('data/after_eda/train_pos_after_eda.csv',delimiter=',',create_using=nx.DiGraph(),nodetype=int)\n",
    "    print(nx.info(train_graph))\n",
    "else:\n",
    "    print(\"please run the FB_EDA.ipynb or download the files from drive\")"
   ]
  },
  {
   "cell_type": "markdown",
   "metadata": {},
   "source": [
    "# 2. Similarity measures"
   ]
  },
  {
   "cell_type": "markdown",
   "metadata": {},
   "source": [
    "## 2.1 Jaccard Distance:\n",
    "http://www.statisticshowto.com/jaccard-index/"
   ]
  },
  {
   "cell_type": "markdown",
   "metadata": {},
   "source": [
    "\\begin{equation}\n",
    "j = \\frac{|X\\cap Y|}{|X \\cup Y|} \n",
    "\\end{equation}\n"
   ]
  },
  {
   "cell_type": "code",
   "execution_count": 37,
   "metadata": {},
   "outputs": [],
   "source": [
    "#for followees\n",
    "def jaccard_for_followees(a,b):\n",
    "    try:\n",
    "        if len(set(train_graph.successors(a))) == 0  | len(set(train_graph.successors(b))) == 0:\n",
    "            return 0\n",
    "        sim = (len(set(train_graph.successors(a)).intersection(set(train_graph.successors(b)))))/\\\n",
    "                                    (len(set(train_graph.successors(a)).union(set(train_graph.successors(b)))))\n",
    "    except:\n",
    "        return 0\n",
    "    return sim"
   ]
  },
  {
   "cell_type": "code",
   "execution_count": 38,
   "metadata": {},
   "outputs": [],
   "source": [
    "#for followers\n",
    "def jaccard_for_followers(a,b):\n",
    "    try:\n",
    "        if len(set(train_graph.predecessors(a))) == 0  | len(set(g.predecessors(b))) == 0:\n",
    "            return 0\n",
    "        sim = (len(set(train_graph.predecessors(a)).intersection(set(train_graph.predecessors(b)))))/\\\n",
    "                                 (len(set(train_graph.predecessors(a)).union(set(train_graph.predecessors(b)))))\n",
    "        return sim\n",
    "    except:\n",
    "        return 0"
   ]
  },
  {
   "cell_type": "markdown",
   "metadata": {},
   "source": [
    "## 2.2 Cosine distance"
   ]
  },
  {
   "cell_type": "markdown",
   "metadata": {},
   "source": [
    "\\begin{equation}\n",
    "CosineDistance = \\frac{|X\\cap Y|}{|X|\\cdot|Y|} \n",
    "\\end{equation}"
   ]
  },
  {
   "cell_type": "code",
   "execution_count": 39,
   "metadata": {},
   "outputs": [],
   "source": [
    "#for followees\n",
    "def cosine_for_followees(a,b):\n",
    "    try:\n",
    "        if len(set(train_graph.successors(a))) == 0  | len(set(train_graph.successors(b))) == 0:\n",
    "            return 0\n",
    "        sim = (len(set(train_graph.successors(a)).intersection(set(train_graph.successors(b)))))/\\\n",
    "                                    (math.sqrt(len(set(train_graph.successors(a)))*len((set(train_graph.successors(b))))))\n",
    "        return sim\n",
    "    except:\n",
    "        return 0"
   ]
  },
  {
   "cell_type": "code",
   "execution_count": 40,
   "metadata": {},
   "outputs": [],
   "source": [
    "def cosine_for_followers(a,b):\n",
    "    try:\n",
    "        \n",
    "        if len(set(train_graph.predecessors(a))) == 0  | len(set(train_graph.predecessors(b))) == 0:\n",
    "            return 0\n",
    "        sim = (len(set(train_graph.predecessors(a)).intersection(set(train_graph.predecessors(b)))))/\\\n",
    "                                     (math.sqrt(len(set(train_graph.predecessors(a))))*(len(set(train_graph.predecessors(b)))))\n",
    "        return sim\n",
    "    except:\n",
    "        return 0"
   ]
  },
  {
   "cell_type": "markdown",
   "metadata": {},
   "source": [
    "## 3. Ranking Measures"
   ]
  },
  {
   "cell_type": "markdown",
   "metadata": {},
   "source": [
    "https://networkx.github.io/documentation/networkx-1.10/reference/generated/networkx.algorithms.link_analysis.pagerank_alg.pagerank.html\n",
    "\n",
    "PageRank computes a ranking of the nodes in the graph G based on the structure of the incoming links.\n",
    "\n",
    "<img src='PageRanks-Example.jpg'/>\n",
    "\n",
    "Mathematical PageRanks for a simple network, expressed as percentages. (Google uses a logarithmic scale.) Page C has a higher PageRank than Page E, even though there are fewer links to C; the one link to C comes from an important page and hence is of high value. If web surfers who start on a random page have an 85% likelihood of choosing a random link from the page they are currently visiting, and a 15% likelihood of jumping to a page chosen at random from the entire web, they will reach Page E 8.1% of the time. <b>(The 15% likelihood of jumping to an arbitrary page corresponds to a damping factor of 85%.) Without damping, all web surfers would eventually end up on Pages A, B, or C, and all other pages would have PageRank zero. In the presence of damping, Page A effectively links to all pages in the web, even though it has no outgoing links of its own.</b>"
   ]
  },
  {
   "cell_type": "markdown",
   "metadata": {},
   "source": [
    "## 3.1 Page Ranking\n",
    "\n",
    "https://en.wikipedia.org/wiki/PageRank\n"
   ]
  },
  {
   "cell_type": "code",
   "execution_count": 41,
   "metadata": {},
   "outputs": [
    {
     "data": {
      "text/plain": [
       "{1: 4.244998339719978e-07,\n",
       " 690569: 2.0379229854259537e-06,\n",
       " 315892: 1.4233320260763565e-06,\n",
       " 189226: 5.43085894337225e-07,\n",
       " 2: 3.927839034640948e-07,\n",
       " 834328: 1.9829110350577977e-06,\n",
       " 1615927: 1.7651553850616647e-06,\n",
       " 1194519: 9.848991875678503e-07,\n",
       " 470294: 9.01037541282904e-07,\n",
       " 961886: 1.2239520123760534e-06,\n",
       " 626040: 5.384830930723751e-07,\n",
       " 3: 6.672175273551661e-07,\n",
       " 176995: 8.628795879369545e-07,\n",
       " 624722: 1.5634589271925176e-06,\n",
       " 412447: 9.86990158672393e-07,\n",
       " 1263124: 1.0233069241842287e-06,\n",
       " 278432: 4.1947811762470993e-07,\n",
       " 539336: 7.2929012732433e-07,\n",
       " 4: 3.6078856825625667e-07,\n",
       " 6271: 1.8312319573853573e-06,\n",
       " 1859286: 1.0475057047466605e-06,\n",
       " 5: 4.1634613425661366e-07,\n",
       " 1646876: 7.99238758667426e-07,\n",
       " 677005: 5.881840481443391e-07,\n",
       " 6: 3.6516474602928874e-07,\n",
       " 1576703: 2.20378676296057e-06,\n",
       " 7: 6.939554913517458e-07,\n",
       " 1760879: 4.2545875090217486e-07,\n",
       " 80397: 4.766796675417853e-07,\n",
       " 778186: 6.044565778685554e-07,\n",
       " 8: 4.2545875090217486e-07,\n",
       " 772194: 7.834544048349361e-07,\n",
       " 9: 4.2068547551640474e-07,\n",
       " 296377: 9.934785218088229e-07,\n",
       " 1657609: 8.073207817637868e-07,\n",
       " 10: 3.538596201156226e-07,\n",
       " 31186: 1.931307774830348e-06,\n",
       " 11: 3.538596201156226e-07,\n",
       " 572660: 2.319511471387863e-06,\n",
       " 12: 5.006378382280547e-07,\n",
       " 1244587: 7.919770420776882e-07,\n",
       " 456253: 7.93120858457076e-07,\n",
       " 708009: 4.419816272375331e-07,\n",
       " 13: 9.663432594381268e-07,\n",
       " 206036: 5.473196997563218e-07,\n",
       " 1244435: 1.3291474377957067e-06,\n",
       " 28583: 1.4100277505249357e-06,\n",
       " 1771842: 7.637877342597815e-07,\n",
       " 1589497: 9.293947542778742e-07,\n",
       " 731455: 9.650327477138336e-07,\n",
       " 328678: 3.8306452872592683e-07,\n",
       " 1324981: 4.785300364413299e-07,\n",
       " 431522: 4.4703360975633527e-07,\n",
       " 531778: 3.8769088872090973e-07,\n",
       " 680313: 3.7175940281226065e-07,\n",
       " 37329: 3.8109841987137617e-07,\n",
       " 14: 3.6579280858004797e-07,\n",
       " 382658: 1.2190879074530053e-06,\n",
       " 15: 3.6579280858004797e-07,\n",
       " 7462: 1.3281920899212375e-06,\n",
       " 18: 8.074514686554366e-07,\n",
       " 619456: 4.218787943628473e-07,\n",
       " 316287: 6.912957076242042e-07,\n",
       " 795106: 1.0179831175734285e-06,\n",
       " 578933: 1.4861977837769316e-06,\n",
       " 1246523: 1.1819114356984495e-06,\n",
       " 1323975: 9.020060425411312e-07,\n",
       " 984426: 6.09451866062966e-07,\n",
       " 1003537: 4.276618010802226e-07,\n",
       " 1468933: 3.7489186478417233e-07,\n",
       " 1688534: 4.6243807470045665e-07,\n",
       " 1269182: 5.354471063129114e-07,\n",
       " 1753748: 4.312178114219628e-07,\n",
       " 248374: 4.926456103237296e-07,\n",
       " 1377966: 8.084009975876958e-07,\n",
       " 78146: 4.111389247448644e-07,\n",
       " 19: 3.538596201156226e-07,\n",
       " 254810: 1.0018317537339208e-06,\n",
       " 860701: 7.300107679264025e-07,\n",
       " 1205150: 5.620937588198454e-07,\n",
       " 220385: 3.9681909858755397e-07,\n",
       " 401594: 3.9681909858755397e-07,\n",
       " 20: 3.538596201156226e-07,\n",
       " 493028: 2.8000031688726548e-06,\n",
       " 21: 3.733866557846823e-07,\n",
       " 212060: 9.457457679511211e-07,\n",
       " 22: 4.61258316295451e-07,\n",
       " 57396: 5.686570124752794e-07,\n",
       " 24: 5.328574470820033e-07,\n",
       " 322832: 1.211259211284586e-06,\n",
       " 423929: 5.328574470820033e-07,\n",
       " 1435: 4.791580989920891e-07,\n",
       " 1310872: 4.6125831629545104e-07,\n",
       " 25: 8.724986709903923e-07,\n",
       " 721394: 6.300801495822778e-07,\n",
       " 899566: 8.020206658430139e-07,\n",
       " 604764: 9.522523459154219e-07,\n",
       " 1465410: 2.62500239619279e-06,\n",
       " 1068517: 1.375569275977965e-06,\n",
       " 138314: 8.631276121755932e-07,\n",
       " 1094367: 8.30769318277375e-07,\n",
       " 422912: 1.0420098612311231e-06,\n",
       " 788104: 1.4519654476427548e-06,\n",
       " 992602: 5.801181187586945e-07,\n",
       " 942867: 6.51600421126714e-07,\n",
       " 1030016: 4.421270666973393e-07,\n",
       " 1526567: 4.6658235422573307e-07,\n",
       " 95722: 4.977976956622085e-07,\n",
       " 1860295: 5.599377976472268e-07,\n",
       " 499524: 1.484813061942123e-06,\n",
       " 730230: 1.2458681740272768e-06,\n",
       " 177460: 5.926038120136796e-07,\n",
       " 1199618: 4.536509086493798e-07,\n",
       " 1229587: 6.966567891391743e-07,\n",
       " 4067: 7.203330832156927e-07,\n",
       " 1098536: 7.348594085835634e-07,\n",
       " 1200994: 7.98021124546683e-07,\n",
       " 210114: 3.675285450839644e-07,\n",
       " 1593893: 7.569128955470272e-07,\n",
       " 1634916: 3.8863634078337654e-07,\n",
       " 1130945: 9.165570704109551e-07,\n",
       " 958524: 5.719991397340224e-07,\n",
       " 1625018: 4.863180120707442e-07,\n",
       " 396162: 4.803514178385316e-07,\n",
       " 26: 3.538596201156226e-07,\n",
       " 803083: 7.960895455619748e-07,\n",
       " 27: 5.686570124752794e-07,\n",
       " 1662028: 5.686570124752794e-07,\n",
       " 28: 3.7038249645098084e-07,\n",
       " 1682122: 1.7769976373377407e-06,\n",
       " 29: 3.733866557846823e-07,\n",
       " 720972: 8.00580089457649e-07,\n",
       " 30: 3.538596201156226e-07,\n",
       " 917075: 1.9344341377188973e-06,\n",
       " 31: 6.638625893528435e-07,\n",
       " 679692: 4.075589682055368e-07,\n",
       " 742710: 1.0454943348991788e-06,\n",
       " 538636: 1.2638845100934015e-06,\n",
       " 577282: 4.075589682055368e-07,\n",
       " 32: 5.149576643853652e-07,\n",
       " 1324739: 5.239075557336842e-07,\n",
       " 214896: 7.38704948093341e-07,\n",
       " 1116131: 4.380938916292135e-07,\n",
       " 33: 4.075589682055368e-07,\n",
       " 700696: 7.118552740483839e-07,\n",
       " 1593284: 5.173924263516201e-07,\n",
       " 34: 4.270860038745965e-07,\n",
       " 1518929: 9.89003576134663e-07,\n",
       " 1125104: 7.118552740483839e-07,\n",
       " 36: 3.8011263473735844e-07,\n",
       " 881549: 7.062154218812685e-07,\n",
       " 1242489: 8.70554327428073e-07,\n",
       " 37: 4.222918662712313e-07,\n",
       " 575581: 5.761513170988169e-07,\n",
       " 743846: 1.2884413695312803e-06,\n",
       " 874856: 9.269682096529381e-07,\n",
       " 38: 4.346589888616357e-07,\n",
       " 1084554: 8.213330392274089e-07,\n",
       " 926898: 1.5850721110767493e-06,\n",
       " 27623: 7.010502231488727e-07,\n",
       " 389596: 4.6695051100682395e-07,\n",
       " 1125093: 7.89737052152066e-07,\n",
       " 811551: 9.051675626018363e-07,\n",
       " 1070165: 5.033731729864588e-07,\n",
       " 384225: 3.8965918550889874e-07,\n",
       " 39: 3.6459948973360546e-07,\n",
       " 1652563: 1.3941605732950243e-06,\n",
       " 40: 3.538596201156226e-07,\n",
       " 1273789: 6.760557086551078e-07,\n",
       " 41: 3.8965918550889874e-07,\n",
       " 1229344: 9.893019058462738e-07,\n",
       " 42: 3.9681909858755397e-07,\n",
       " 186751: 6.498215607345014e-07,\n",
       " 43: 3.6649476084266125e-07,\n",
       " 406191: 1.0216999258753555e-06,\n",
       " 44: 6.760557086551078e-07,\n",
       " 899392: 1.3097080161160954e-06,\n",
       " 81763: 5.221175774640204e-07,\n",
       " 826890: 3.9681909858755397e-07,\n",
       " 611366: 4.224440506585305e-07,\n",
       " 1244292: 4.2750444035321925e-07,\n",
       " 45: 3.6057203862686186e-07,\n",
       " 1844351: 9.6620147548843e-07,\n",
       " 47: 3.9681909858755397e-07,\n",
       " 1028853: 6.653158390371249e-07,\n",
       " 49: 5.327690760491399e-07,\n",
       " 1854076: 3.673835840749314e-06,\n",
       " 1053836: 6.917801455890878e-07,\n",
       " 450855: 6.317732510012538e-07,\n",
       " 527674: 6.295037372174404e-07,\n",
       " 1206006: 1.9483515826010094e-06,\n",
       " 1819413: 1.0034017483416778e-06,\n",
       " 306893: 7.620654615981564e-07,\n",
       " 1315486: 8.110391034319915e-07,\n",
       " 1186111: 8.42813077099581e-07,\n",
       " 50: 3.5548687308804426e-07,\n",
       " 1065918: 2.1109756709520013e-06,\n",
       " 1566117: 4.801456029145571e-07,\n",
       " 51: 5.032487839747824e-07,\n",
       " 694124: 9.111821399345176e-07,\n",
       " 262606: 4.7343016852916483e-07,\n",
       " 1060463: 7.001515699775052e-07,\n",
       " 52: 4.2545875090217486e-07,\n",
       " 1524285: 1.0340513625878692e-06,\n",
       " 53: 1.3810460711510282e-06,\n",
       " 175439: 8.125583260583906e-07,\n",
       " 1134531: 4.030840225313773e-07,\n",
       " 989733: 8.059212780340989e-07,\n",
       " 1159365: 6.683314020040532e-07,\n",
       " 1066109: 6.267460691788929e-07,\n",
       " 321039: 5.363947850911007e-07,\n",
       " 1141033: 5.198456819679087e-07,\n",
       " 204553: 1.1658390734620013e-06,\n",
       " 1364025: 4.102439356100325e-07,\n",
       " 813204: 3.6728445713810116e-07,\n",
       " 528206: 6.281098621462559e-07,\n",
       " 1611430: 3.826271280209338e-07,\n",
       " 482808: 3.838073334734594e-07,\n",
       " 1386771: 4.900258242007621e-07,\n",
       " 1711782: 3.6728445713810116e-07,\n",
       " 1007233: 4.102439356100325e-07,\n",
       " 54: 9.511062704726571e-07,\n",
       " 946584: 1.0112161322788068e-06,\n",
       " 867555: 1.120520892323235e-06,\n",
       " 1757684: 4.893865462473108e-07,\n",
       " 237014: 1.2971979864783722e-06,\n",
       " 127561: 6.669610301665875e-07,\n",
       " 766708: 4.090670085059862e-07,\n",
       " 978393: 1.2465515181361594e-06,\n",
       " 1844797: 8.183939035369352e-07,\n",
       " 1834300: 5.225863812965514e-07,\n",
       " 494483: 8.55199732452538e-07,\n",
       " 1101058: 9.151461857797349e-07,\n",
       " 761994: 4.5190042919123197e-07,\n",
       " 679014: 1.2385806437864875e-06,\n",
       " 609116: 6.435750240495399e-07,\n",
       " 577031: 3.8965918550889874e-07,\n",
       " 1786857: 3.922448047007845e-07,\n",
       " 1194176: 1.0435251065776564e-06,\n",
       " 1130353: 5.860453728091564e-07,\n",
       " 444771: 5.382567868400877e-07,\n",
       " 1336174: 4.5972623269922887e-07,\n",
       " 230597: 3.79430738253677e-07,\n",
       " 55: 4.934779251493996e-07,\n",
       " 279010: 5.302632756766934e-07,\n",
       " 1007648: 5.724358554890141e-07,\n",
       " 13589: 4.441225487139133e-07,\n",
       " 56: 6.476629498949233e-07,\n",
       " 1707687: 5.101777321154164e-07,\n",
       " 1429792: 1.5731775528940623e-06,\n",
       " 57: 5.686570124752794e-07,\n",
       " 373871: 5.686570124752794e-07,\n",
       " 58: 3.8965918550889874e-07,\n",
       " 916140: 7.852443831046e-07,\n",
       " 59: 3.7257302929847147e-07,\n",
       " 1389095: 1.9369942800018934e-06,\n",
       " 1778028: 1.2177762348521206e-06,\n",
       " 60: 3.538596201156226e-07,\n",
       " 83366: 1.3502715583067278e-06,\n",
       " 878202: 7.106619552019413e-07,\n",
       " 1168174: 5.149576643853652e-07,\n",
       " 296792: 4.695174935331444e-07,\n",
       " 61: 5.932556532417199e-07,\n",
       " 1685730: 9.586087813115931e-07,\n",
       " 871534: 1.2593972542816564e-06,\n",
       " 1705344: 9.43017896348878e-07,\n",
       " 208925: 7.532246307889579e-07,\n",
       " 1737228: 4.0855925017976075e-07,\n",
       " 1031786: 4.465618657510846e-07,\n",
       " 1286823: 4.649435656741706e-07,\n",
       " 260181: 1.435684542725403e-06,\n",
       " 1408376: 5.114350175849606e-07,\n",
       " 803963: 5.718827846599222e-07,\n",
       " 1483341: 1.50276447076924e-06,\n",
       " 1499185: 7.100746224171741e-07,\n",
       " 122289: 6.900918963095007e-07,\n",
       " 1473016: 3.9334443488761836e-07,\n",
       " 1740009: 3.6649476084266125e-07,\n",
       " 89946: 6.083921738584168e-07,\n",
       " 817445: 4.380938916292135e-07,\n",
       " 62: 4.771179684797704e-07,\n",
       " 1822914: 9.389035662571971e-07,\n",
       " 1601368: 4.776238319038058e-07,\n",
       " 402932: 6.709414850274968e-07,\n",
       " 63: 8.300271597880112e-07,\n",
       " 268939: 1.458732387968755e-06,\n",
       " 1788531: 5.993769896329344e-07,\n",
       " 1630186: 4.567880293270251e-07,\n",
       " 1330009: 1.1021213839923255e-06,\n",
       " 1765456: 6.134064692168745e-07,\n",
       " 1382381: 6.361544325948385e-07,\n",
       " 758777: 4.3378057969973465e-07,\n",
       " 258969: 6.175830851794234e-07,\n",
       " 1732515: 6.582489118426081e-07,\n",
       " 732009: 8.577385030259841e-07,\n",
       " 1168913: 7.772947737305049e-07,\n",
       " 259286: 5.195415280216376e-07,\n",
       " 64: 7.154352305877114e-07,\n",
       " 1709106: 5.89241762576413e-07,\n",
       " 1313246: 5.134233972970819e-07,\n",
       " 947828: 5.323925176613114e-07,\n",
       " 65: 7.846547274258571e-07,\n",
       " 602159: 1.7967387714556438e-06,\n",
       " 1812382: 1.190046806465518e-06,\n",
       " 171318: 8.820613488435847e-07,\n",
       " 442729: 9.867099243259165e-07,\n",
       " 76799: 1.2525743100219213e-06,\n",
       " 1705481: 7.364806324783663e-07,\n",
       " 1119900: 6.354828678760615e-07,\n",
       " 1156069: 7.474635879479012e-07,\n",
       " 880042: 4.4092927737569775e-07,\n",
       " 1673827: 6.894805456775863e-07,\n",
       " 1454964: 1.0299454546413835e-06,\n",
       " 341285: 7.412080416651588e-07,\n",
       " 1405545: 4.663088356514766e-07,\n",
       " 557790: 5.229776968923003e-07,\n",
       " 1774222: 6.261428530587131e-07,\n",
       " 717601: 4.1331246978659905e-07,\n",
       " 66: 3.9681909858755397e-07,\n",
       " 1741841: 6.92578584990466e-07,\n",
       " 1672048: 5.042177947673824e-07,\n",
       " 67: 3.7175940281226065e-07,\n",
       " 566600: 1.5722381623334537e-06,\n",
       " 451245: 7.092981622345785e-07,\n",
       " 1541531: 6.911710807100466e-07,\n",
       " 68: 4.892467546006352e-07,\n",
       " 1752782: 1.4921230743245616e-06,\n",
       " 1045772: 4.785527923308501e-07,\n",
       " 69: 3.538596201156226e-07,\n",
       " 131924: 6.621698166237763e-07,\n",
       " 70: 3.9681909858755397e-07,\n",
       " 871386: 6.25040856873187e-07,\n",
       " 71: 5.160921769415935e-07,\n",
       " 746824: 1.0464641227343629e-06,\n",
       " 1854232: 1.2341259291732065e-06,\n",
       " 1575746: 1.2207029254406722e-06,\n",
       " 1315204: 4.7009593888127133e-07,\n",
       " 1674297: 1.880516403601857e-06,\n",
       " 1300876: 3.9942936899820547e-07,\n",
       " 1105698: 8.337197597715091e-07,\n",
       " 72: 3.9681909858755397e-07,\n",
       " 1756934: 7.211394567543652e-07,\n",
       " 73: 5.881840481443392e-07,\n",
       " 611306: 8.352749390697984e-07,\n",
       " 489181: 5.161509832318077e-07,\n",
       " 217164: 4.1634613425661366e-07,\n",
       " 471806: 3.9681909858755397e-07,\n",
       " 202447: 3.9681909858755397e-07,\n",
       " 74: 5.947779369719618e-07,\n",
       " 1061504: 1.327974693757685e-06,\n",
       " 1434864: 9.180221113650034e-07,\n",
       " 1709589: 5.998639273600826e-07,\n",
       " 1704181: 4.474044975651072e-07,\n",
       " 370494: 3.233475219314161e-06,\n",
       " 237909: 6.941857899178996e-07,\n",
       " 720583: 6.817594688243342e-07,\n",
       " 1400239: 5.986877961448574e-07,\n",
       " 142356: 6.487088372410669e-07,\n",
       " 1576900: 1.3399354336272188e-06,\n",
       " 1481411: 1.3462622989016411e-06,\n",
       " 75: 4.897739874312208e-07,\n",
       " 1145079: 7.323461088771141e-07,\n",
       " 1247899: 1.2218582133884555e-06,\n",
       " 512330: 5.230939292474734e-07,\n",
       " 1102064: 6.06209004146548e-07,\n",
       " 56206: 6.156724040793877e-07,\n",
       " 13121: 4.2328908027227935e-07,\n",
       " 76: 3.538596201156226e-07,\n",
       " 1183714: 5.686570124752794e-07,\n",
       " 78: 4.075589682055368e-07,\n",
       " 1400162: 8.908531010147646e-07,\n",
       " 79: 8.239620643324541e-07,\n",
       " 1595558: 1.72935024928446e-06,\n",
       " 419087: 2.6688566365834687e-06,\n",
       " 1181051: 1.015417302223605e-06,\n",
       " 459884: 1.3934476273040625e-06,\n",
       " 1716876: 3.860792289695711e-07,\n",
       " 253105: 6.120795517785793e-07,\n",
       " 792819: 3.860792289695711e-07,\n",
       " 973169: 1.242337620686442e-06,\n",
       " 348828: 2.0069107062429073e-06,\n",
       " 1444240: 5.591104617037391e-07,\n",
       " 609109: 4.7557814245276146e-07,\n",
       " 783907: 4.021709528079629e-07,\n",
       " 906140: 5.226828337597037e-07,\n",
       " 1041727: 5.337098176866051e-07,\n",
       " 756378: 6.858579706080285e-07,\n",
       " 80: 3.8965918550889874e-07,\n",
       " 361048: 7.088719769322776e-07,\n",
       " 81: 7.457897934602579e-07,\n",
       " 1022657: 1.034910502393718e-06,\n",
       " 997656: 1.0849905341022932e-06,\n",
       " 380597: 1.1900647103444014e-06,\n",
       " 1698750: 4.915194123223892e-07,\n",
       " 1738080: 1.3391655550168224e-06,\n",
       " 1490625: 6.341668968232497e-07,\n",
       " 869268: 4.6934901858213386e-07,\n",
       " 719978: 5.183671468037724e-07,\n",
       " 711543: 1.0804838469565278e-06,\n",
       " 167186: 1.0233114929698862e-06,\n",
       " 276421: 6.637590091975434e-07,\n",
       " 98471: 5.083897434017372e-07,\n",
       " 980119: 6.6413375834267e-07,\n",
       " 1813867: 3.6728445713810116e-07,\n",
       " 1398225: 6.762688013062581e-07,\n",
       " 1600230: 4.388835879246534e-07,\n",
       " 82: 4.1829883782351963e-07,\n",
       " 611092: 1.3438166892616354e-06,\n",
       " 112566: 9.976052079533338e-07,\n",
       " 288597: 4.630482945651148e-07,\n",
       " 83: 3.6516474602928874e-07,\n",
       " 1521498: 8.085141006102293e-07,\n",
       " 19406: 1.6762794301545925e-06,\n",
       " 1768082: 9.499223839136701e-07,\n",
       " 1711525: 1.0528701443913602e-06,\n",
       " 84: 6.211117374118641e-07,\n",
       " 628304: 1.4461538794563738e-06,\n",
       " 1831501: 1.472406712880508e-06,\n",
       " 495318: 7.798223147009716e-07,\n",
       " 344428: 8.128239461733496e-07,\n",
       " 219656: 1.1605951728654087e-06,\n",
       " 1812006: 5.487020487098049e-07,\n",
       " 489480: 1.0033944349338927e-06,\n",
       " 1182549: 1.4891693331669283e-06,\n",
       " 946366: 6.221421421441129e-07,\n",
       " 164496: 8.244566839740182e-07,\n",
       " 941898: 8.59650129912623e-07,\n",
       " 447831: 2.9213192361600145e-06,\n",
       " 1362510: 5.591512664303845e-07,\n",
       " 1354719: 5.027753594115221e-07,\n",
       " 1498955: 7.636194741676212e-07,\n",
       " 1125968: 5.446428815894686e-07,\n",
       " 244887: 1.120718554055667e-06,\n",
       " 636422: 4.819789323529819e-07,\n",
       " 751223: 4.121995233544862e-07,\n",
       " 1354664: 5.283476317012918e-07,\n",
       " 597299: 3.9350246368143373e-07,\n",
       " 86: 3.733866557846823e-07,\n",
       " 907649: 1.7637626141306752e-06,\n",
       " 87: 1.6606828279635835e-06,\n",
       " 1194997: 5.591720444603394e-07,\n",
       " 1003093: 7.53280485432032e-07,\n",
       " 109627: 4.7046391882515056e-07,\n",
       " 1854354: 3.681794462729331e-07,\n",
       " 454942: 1.057682084114271e-06,\n",
       " 521421: 3.681794462729331e-07,\n",
       " 1159153: 3.681794462729331e-07,\n",
       " 508650: 7.254618005944748e-07,\n",
       " 231172: 6.219840091958148e-07,\n",
       " 1234791: 6.336928896063978e-07,\n",
       " 441051: 4.063342462315563e-07,\n",
       " 3347: 4.725948453366551e-07,\n",
       " 295799: 5.542205461299708e-07,\n",
       " 80780: 4.7046391882515056e-07,\n",
       " 1184475: 4.7046391882515056e-07,\n",
       " 88: 3.538596201156226e-07,\n",
       " 201540: 8.069575185862089e-07,\n",
       " 89: 8.29908252160229e-07,\n",
       " 948959: 2.1832546558278433e-06,\n",
       " 878526: 7.594611494533177e-07,\n",
       " 1755151: 2.6944096072802178e-06,\n",
       " 1820119: 7.294218573268594e-07,\n",
       " 412572: 1.8822969595957886e-06,\n",
       " 436243: 5.919835546878823e-07,\n",
       " 1436178: 1.2482419315517072e-06,\n",
       " 236707: 1.1903225734258305e-06,\n",
       " 874621: 3.9443193147193307e-07,\n",
       " 704901: 5.556292413068449e-07,\n",
       " 1024220: 1.2191560469065642e-06,\n",
       " 627987: 3.7175940281226065e-07,\n",
       " 91: 3.624515158100089e-07,\n",
       " 800472: 1.2327740145955902e-06,\n",
       " 93: 3.538596201156226e-07,\n",
       " 232270: 6.048222723537556e-07,\n",
       " 94: 4.561440926678401e-07,\n",
       " 1571211: 5.567977137227081e-07,\n",
       " 785283: 4.977489929897556e-07,\n",
       " 95: 3.7533935935158826e-07,\n",
       " 236966: 9.495334525713604e-07,\n",
       " 96: 3.8965918550889874e-07,\n",
       " 453195: 9.275050370126424e-07,\n",
       " 98: 4.310755792656027e-07,\n",
       " 472174: 1.3511278629295049e-06,\n",
       " 1144628: 7.169694976759947e-07,\n",
       " 99: 6.044565778685554e-07,\n",
       " 237694: 3.2612304422884595e-06,\n",
       " 1723995: 1.7387496634252879e-06,\n",
       " 582267: 5.686570124752794e-07,\n",
       " 101: 3.777259970444734e-07,\n",
       " 1058638: 1.2959848493820059e-06,\n",
       " 102: 4.983068570949839e-07,\n",
       " 124268: 8.923150470693198e-07,\n",
       " 429822: 8.415371691606147e-07,\n",
       " 837022: 1.1464387965072519e-06,\n",
       " 531989: 8.778337814454786e-07,\n",
       " 793303: 7.464976817723824e-07,\n",
       " 104: 5.686570124752794e-07,\n",
       " 644509: 5.686570124752794e-07,\n",
       " 105: 5.35542414486499e-07,\n",
       " 1625115: 1.2552292211338946e-06,\n",
       " 578479: 7.858410425278212e-07,\n",
       " 566519: 7.749906502142176e-07,\n",
       " 45974: 1.0943139643332171e-06,\n",
       " 1154097: 9.970104952476818e-07,\n",
       " 1766921: 3.9671533173134156e-07,\n",
       " 1407805: 3.777259970444734e-07,\n",
       " 1418762: 6.462227374940443e-07,\n",
       " 1391542: 7.307647880766271e-07,\n",
       " 106: 3.624515158100089e-07,\n",
       " 266064: 7.631610281974465e-07,\n",
       " 1122174: 1.3502930188754508e-06,\n",
       " 1784331: 4.5648504090968087e-07,\n",
       " 1266933: 1.0076428264027684e-06,\n",
       " 237219: 3.9681909858755397e-07,\n",
       " 107: 4.075589682055368e-07,\n",
       " 615816: 4.792859545827793e-07,\n",
       " 1321486: 5.06705505643201e-07,\n",
       " 933251: 5.136420488869581e-07,\n",
       " 486260: 7.952652966473968e-07,\n",
       " 108: 4.075589682055368e-07,\n",
       " 358350: 7.936828520901578e-07,\n",
       " 109: 5.686570124752794e-07,\n",
       " 1003858: 5.686570124752794e-07,\n",
       " 110: 4.002363298296394e-07,\n",
       " 412863: 6.252621694445179e-07,\n",
       " 111: 9.985966112258124e-07,\n",
       " 184581: 9.67895237631757e-07,\n",
       " 1519665: 7.911216806990353e-07,\n",
       " 297069: 7.316757138067377e-07,\n",
       " 1276690: 6.726886596014524e-07,\n",
       " 1390248: 6.336163077566991e-07,\n",
       " 1226594: 1.6515994307146991e-06,\n",
       " 1850951: 4.714577434463093e-07,\n",
       " 1723555: 7.041828528875587e-07,\n",
       " 1178224: 1.002627299631549e-06,\n",
       " 1847174: 5.554454090201936e-07,\n",
       " 468743: 6.733860402101819e-07,\n",
       " 524048: 8.759180633975221e-07,\n",
       " 233077: 4.5735447651916326e-07,\n",
       " 1724509: 7.218152719591126e-07,\n",
       " 1861931: 1.5370166861908863e-06,\n",
       " 1121338: 4.43013525779655e-07,\n",
       " 1382582: 5.49335543301039e-07,\n",
       " 1384121: 7.464811153217599e-07,\n",
       " 806470: 4.03581238717395e-07,\n",
       " 1233289: 1.3096139153043617e-06,\n",
       " 1775946: 5.318630147099678e-07,\n",
       " 1850147: 4.871059324681482e-07,\n",
       " 648943: 4.0477455756383754e-07,\n",
       " 1273025: 7.2251081299299e-07,\n",
       " 671541: 4.072277439777236e-07,\n",
       " 747365: 3.618150790919062e-07,\n",
       " 175669: 3.7971486178854427e-07,\n",
       " 112: 3.8454496188128783e-07,\n",
       " 675562: 5.098434407577543e-07,\n",
       " 821470: 8.081843677710808e-07,\n",
       " 113: 3.538596201156226e-07,\n",
       " 547644: 6.402561432618316e-07,\n",
       " 115: 3.6649476084266125e-07,\n",
       " 1270945: 1.0208064530124093e-06,\n",
       " 116: 3.538596201156226e-07,\n",
       " 1394223: 1.275698428992483e-06,\n",
       " 117: 7.568232774208721e-07,\n",
       " 245746: 1.8611765708272596e-06,\n",
       " 1315537: 1.0293851197898887e-06,\n",
       " 323398: 6.478985100239587e-07,\n",
       " 259972: 1.2222506270701605e-06,\n",
       " 1618429: 5.581438853593878e-07,\n",
       " 296239: 7.112005878570801e-07,\n",
       " 981622: 4.987111528268067e-07,\n",
       " 1452096: 5.61794326391019e-07,\n",
       " 185553: 4.6725867751699983e-07,\n",
       " 416110: 3.7038249645098084e-07,\n",
       " 1082885: 4.922290357588125e-07,\n",
       " 1519107: 1.1343002583745188e-06,\n",
       " 1405921: 4.814157783770681e-07,\n",
       " 118: 4.1582040637321586e-07,\n",
       " 146690: 1.947745884839885e-06,\n",
       " 707932: 5.943749504303943e-07,\n",
       " 119: 9.78408935601183e-07,\n",
       " 1495706: 1.0771235754642036e-06,\n",
       " 255000: 5.463732680673679e-07,\n",
       " 852555: 6.357532702661351e-07,\n",
       " 809936: 1.8987367453119117e-06,\n",
       " 875039: 7.150862808431596e-07,\n",
       " 93610: 5.842205248329407e-07,\n",
       " 86004: 5.546858833834879e-07,\n",
       " 779396: 3.981680776272968e-07,\n",
       " 327613: 1.0350501069008192e-06,\n",
       " 1293375: 5.225515115899996e-07,\n",
       " 261599: 4.741368612486166e-07,\n",
       " 120: 3.93068667927306e-07,\n",
       " 862294: 7.658819439657448e-07,\n",
       " 121: 3.7175940281226065e-07,\n",
       " 103376: 5.215383106448354e-06,\n",
       " 487812: 1.0626740486136024e-06,\n",
       " 385535: 1.1851211156580776e-06,\n",
       " 508962: 6.7294143751927e-07,\n",
       " 122: 8.346431098883833e-07,\n",
       " 1739931: 4.937141427716724e-07,\n",
       " 862700: 1.7902421133784823e-06,\n",
       " 1405347: 1.1972900702896752e-06,\n",
       " 1500867: 6.032175081824288e-07,\n",
       " 1171449: 7.192912310032181e-07,\n",
       " 581797: 7.299829231522452e-07,\n",
       " 252892: 4.764026682832059e-07,\n",
       " 1049126: 9.753738635201483e-07,\n",
       " 1638581: 4.4758332703031757e-07,\n",
       " 1586443: 1.0444650577200838e-06,\n",
       " 1687614: 3.690039721033775e-07,\n",
       " 1502201: 5.145888713693671e-07,\n",
       " 113017: 4.511802472106704e-07,\n",
       " 1032567: 5.247320815641286e-07,\n",
       " 603098: 5.414385454143241e-07,\n",
       " 1601261: 6.506272198638164e-07,\n",
       " 1789585: 1.1950092041401203e-06,\n",
       " 1757805: 6.180612981977883e-07,\n",
       " 922781: 1.0318388599634052e-06,\n",
       " 721778: 3.690039721033775e-07,\n",
       " 1646238: 3.690039721033775e-07,\n",
       " 1163641: 6.140682697500769e-07,\n",
       " 1418295: 4.3582982750415964e-07,\n",
       " 123: 3.6408806737084437e-07,\n",
       " 525674: 2.3850933108511164e-06,\n",
       " 125: 9.467270817006137e-07,\n",
       " 1254433: 7.347212370570967e-07,\n",
       " 30404: 1.6416035435444358e-06,\n",
       " 1171122: 1.2106313828398709e-06,\n",
       " 344575: 7.006790159258814e-07,\n",
       " 652927: 6.62756272844779e-07,\n",
       " 666374: 1.244436314329142e-06,\n",
       " 671301: 8.060591894979093e-07,\n",
       " 1824545: 5.496541903664868e-07,\n",
       " 199458: 4.2256990566387576e-07,\n",
       " 1608293: 4.534995382227441e-07,\n",
       " 1304583: 3.7175940281226065e-07,\n",
       " 134946: 3.7175940281226065e-07,\n",
       " 126: 3.538596201156226e-07,\n",
       " 193651: 5.686570124752794e-07,\n",
       " 127: 4.925349529140988e-07,\n",
       " 580880: 8.060700304594939e-07,\n",
       " 880649: 4.730079172450391e-07,\n",
       " 1049839: 7.044039736431328e-07,\n",
       " 1612915: 4.7642514848712453e-07,\n",
       " 1073850: 5.116280544571794e-07,\n",
       " 178165: 4.856430579720776e-07,\n",
       " 128: 4.61258316295451e-07,\n",
       " 857471: 5.766124714515629e-07,\n",
       " 130: 7.377411136404451e-07,\n",
       " 499097: 1.1206460450065113e-06,\n",
       " 282933: 7.606047016227057e-07,\n",
       " 904365: 6.385251752647941e-07,\n",
       " 953250: 1.1823707901735992e-06,\n",
       " 202772: 6.693158098698513e-07,\n",
       " 485035: 6.080955446805094e-07,\n",
       " 4072: 4.316548295279342e-07,\n",
       " 1570182: 7.286338615651227e-07,\n",
       " 132: 6.402561432618316e-07,\n",
       " 1730988: 1.3051684304054114e-06,\n",
       " 482928: 6.402561432618316e-07,\n",
       " 982571: 1.5474804907553634e-06,\n",
       " 133: 4.910137992197324e-07,\n",
       " 1210717: 9.14587757555011e-07,\n",
       " 1336080: 6.654010760975851e-07,\n",
       " 37527: 4.6221597973944477e-07,\n",
       " 819390: 5.92432787773431e-07,\n",
       " 345681: 7.403965759086276e-07,\n",
       " 1101843: 3.8454496188128783e-07,\n",
       " 1325424: 5.408697307652603e-07,\n",
       " 135: 1.751003702979379e-06,\n",
       " 612535: 7.742346811419223e-07,\n",
       " 593597: 1.540094097409816e-06,\n",
       " 1166489: 6.964323039193285e-07,\n",
       " 1746180: 1.2606401238518517e-06,\n",
       " 168795: 1.4046087887310646e-06,\n",
       " 347708: 1.5077456274886893e-06,\n",
       " 36562: 1.1758939863029996e-06,\n",
       " 428269: 2.1171866300426657e-06,\n",
       " 161908: 1.2323128336987119e-06,\n",
       " 717660: 7.811479771971282e-07,\n",
       " 684382: 1.0023495763215417e-06,\n",
       " 1146696: 1.2421667920006175e-06,\n",
       " 1623787: 4.5686553785532577e-07,\n",
       " 839774: 7.39386009988196e-07,\n",
       " 100378: 5.775206141406091e-07,\n",
       " 71740: 7.972836911385992e-07,\n",
       " 1498540: 5.665059593137302e-07,\n",
       " 808799: 8.267175978802355e-07,\n",
       " 1647182: 3.718546144223492e-07,\n",
       " 1578593: 5.078977689206735e-07,\n",
       " 1025388: 1.6081944863676392e-06,\n",
       " 1769211: 1.1295204239113708e-06,\n",
       " 956320: 1.5852955320352901e-06,\n",
       " 1643728: 7.06496575866277e-07,\n",
       " 925682: 9.085591361773373e-07,\n",
       " 564165: 9.118936056943702e-07,\n",
       " 951962: 4.453345194777511e-07,\n",
       " 962111: 4.83019995978762e-07,\n",
       " 969308: 5.910494642193834e-07,\n",
       " 607835: 4.5844569446618245e-07,\n",
       " 1832076: 1.3023260633760363e-06,\n",
       " 508098: 5.036758855289894e-07,\n",
       " 1084361: 1.2248320115245005e-06,\n",
       " 618863: 7.405579263869299e-07,\n",
       " 1646757: 6.482977735539124e-07,\n",
       " 1617835: 8.277527811173069e-07,\n",
       " 250674: 1.2362989738689951e-06,\n",
       " 1465671: 3.988786370000657e-07,\n",
       " 491567: 5.732271697595274e-07,\n",
       " 740672: 8.7719862107125e-07,\n",
       " 1231569: 4.622485170403714e-07,\n",
       " 953125: 7.103260382946239e-07,\n",
       " 242147: 4.039928606276766e-07,\n",
       " 1835285: 3.5842977739987065e-07,\n",
       " 1844669: 4.7349980902111536e-07,\n",
       " 822004: 3.7377244828270326e-07,\n",
       " 506857: 4.6374016559842455e-07,\n",
       " 136: 8.701850606730152e-07,\n",
       " 433374: 1.3182712560976926e-06,\n",
       " 1527751: 3.889807260034616e-07,\n",
       " 1222229: 1.8866825148500788e-06,\n",
       " 1541805: 6.727874371881495e-07,\n",
       " 1483192: 5.790490390647616e-07,\n",
       " 1721537: 1.1482731099776262e-06,\n",
       " 61698: 3.7533935935158826e-07,\n",
       " 1427267: 5.298199082001494e-07,\n",
       " 754689: 4.613513021795893e-07,\n",
       " 1146329: 5.261685213279402e-07,\n",
       " 137: 5.346721715950263e-07,\n",
       " 1768787: 1.9212035832070097e-06,\n",
       " 138: 3.733866557846823e-07,\n",
       " 479543: 1.1132443405790555e-06,\n",
       " 1007606: 9.553799400365612e-07,\n",
       " 139: 6.567790195971899e-07,\n",
       " 1102059: 7.969182618627168e-07,\n",
       " 1364631: 1.0041501180073704e-06,\n",
       " 140: 4.0096431142256486e-07,\n",
       " 1122310: 1.4563495610108929e-06,\n",
       " 100170: 4.994131162540743e-07,\n",
       " 625577: 5.799621383889455e-07,\n",
       " 141: 3.6459948973360546e-07,\n",
       " 368227: 1.129863703565559e-06,\n",
       " 142: 7.211942911074994e-07,\n",
       " 694465: 2.042364400845396e-06,\n",
       " 1068238: 5.605672405552403e-07,\n",
       " 143: 7.760299629479562e-07,\n",
       " 1608536: 1.3219020079852266e-06,\n",
       " 29868: 1.6967503552713741e-06,\n",
       " 30678: 5.546929978345181e-07,\n",
       " 20832: 1.0390014629177262e-06,\n",
       " 385744: 4.270789973184985e-07,\n",
       " 1003694: 7.477400765021203e-07,\n",
       " 1784446: 4.421652147523704e-07,\n",
       " 283299: 6.983047505822724e-07,\n",
       " 1579486: 3.777259970444734e-07,\n",
       " 145: 4.61258316295451e-07,\n",
       " 1790320: 5.799621383889455e-07,\n",
       " 146: 4.3364150870635224e-07,\n",
       " 44123: 9.001010796810302e-07,\n",
       " 1804972: 6.441107752089101e-07,\n",
       " 882846: 1.6332554814710713e-06,\n",
       " 1829224: 4.403438333551686e-07,\n",
       " 147: 5.686570124752794e-07,\n",
       " 775423: 5.507572297786413e-07,\n",
       " 1065996: 8.192539702282123e-07,\n",
       " 148: 4.7164019025950104e-07,\n",
       " 1315276: 1.4373192269659118e-06,\n",
       " 1165746: 7.143670850468399e-07,\n",
       " 143737: 1.0659216678556868e-06,\n",
       " 1773940: 6.658978949080296e-07,\n",
       " 679568: 6.968890970751583e-07,\n",
       " 149: 3.7038249645098084e-07,\n",
       " 1165815: 1.3387607403391e-06,\n",
       " 150: 4.61258316295451e-07,\n",
       " 1455822: 6.044565778685554e-07,\n",
       " 151: 3.9681909858755397e-07,\n",
       " 1741895: 1.051951145284507e-06,\n",
       " 152: 5.389517649589922e-07,\n",
       " 1319086: 5.685772024076308e-07,\n",
       " 629024: 7.962172692067511e-07,\n",
       " 150431: 7.177289448190309e-07,\n",
       " 1760659: 8.084544623009119e-07,\n",
       " 1536764: 7.788700138938334e-07,\n",
       " 588919: 5.888836785760857e-07,\n",
       " 376997: 5.458133483260367e-07,\n",
       " 1675448: 4.36763876815841e-07,\n",
       " 936670: 4.625738094313492e-07,\n",
       " 153: 4.6125831629545104e-07,\n",
       " 527826: 7.834544048349361e-07,\n",
       " 166580: 6.65315839037125e-07,\n",
       " 626388: 7.29755056745022e-07,\n",
       " 1045001: 4.61258316295451e-07,\n",
       " 154: 5.602447219480936e-07,\n",
       " 1273853: 9.380245887249641e-07,\n",
       " 962460: 5.12939619386362e-07,\n",
       " 93121: 4.956442449366234e-07,\n",
       " 1304780: 5.543803284173664e-07,\n",
       " 380280: 7.620178076983681e-07,\n",
       " 736969: 7.175240621381535e-07,\n",
       " 767212: 1.0259969839435491e-06,\n",
       " 591467: 5.859955290244155e-07,\n",
       " 1857731: 5.054465068895443e-07,\n",
       " 27544: 5.859955290244155e-07,\n",
       " 1812401: 4.901038360067116e-07,\n",
       " 652098: 9.165525983126765e-07,\n",
       " 1823990: 4.258273435960567e-07,\n",
       " 813453: 4.0298381139272813e-07,\n",
       " 1714716: 4.122823998065661e-07,\n",
       " 296977: 5.426873534869653e-07,\n",
       " 1739769: 4.559145599448319e-07,\n",
       " 248243: 4.71088222700413e-07,\n",
       " 1359304: 8.495470539736271e-07,\n",
       " 280203: 4.377605320604821e-07,\n",
       " 26862: 5.385107375244164e-07,\n",
       " 496603: 4.0298381139272813e-07,\n",
       " 1030041: 4.531032029433147e-07,\n",
       " 1088677: 4.173036375500386e-07,\n",
       " 371906: 4.1116656919690556e-07,\n",
       " 745099: 4.368306732190983e-07,\n",
       " 1269699: 3.927553641375064e-07,\n",
       " 1622333: 4.31112041344588e-07,\n",
       " 1534571: 4.203721717266051e-07,\n",
       " 830762: 4.2881064071216305e-07,\n",
       " 667918: 3.7741269325467376e-07,\n",
       " 234148: 3.7741269325467376e-07,\n",
       " 1692748: 4.848113894345022e-07,\n",
       " 1271971: 3.7741269325467376e-07,\n",
       " 908717: 4.848113894345022e-07,\n",
       " 505050: 4.0127907018352453e-07,\n",
       " 1081991: 3.876411405098955e-07,\n",
       " 155: 5.203469808674772e-07,\n",
       " 611954: 7.306330580740977e-07,\n",
       " 990325: 8.968143402906634e-07,\n",
       " 1594405: 5.573988753798221e-07,\n",
       " 391505: 1.4015401669126779e-06,\n",
       " 1259916: 1.0691652286635401e-06,\n",
       " 50571: 5.402677067718002e-07,\n",
       " 156: 8.371537529248503e-07,\n",
       " 332995: 2.5873426767219435e-06,\n",
       " 1474531: 5.149576643853652e-07,\n",
       " 1709921: 9.85261332200135e-07,\n",
       " 1118944: 6.044565778685554e-07,\n",
       " 1164808: 4.740438753644781e-07,\n",
       " 1365638: 3.8965918550889874e-07,\n",
       " 157: 4.3824430997120205e-07,\n",
       " 1110246: 9.251279011560053e-07,\n",
       " 159: 3.777259970444734e-07,\n",
       " 217322: 1.2672599600069249e-06,\n",
       " 160: 6.576313902017916e-07,\n",
       " 873150: 1.5238530171283838e-06,\n",
       " 504273: 1.1917668998298768e-06,\n",
       " 935558: 3.8965918550889874e-07,\n",
       " 1080124: 5.747466937913035e-07,\n",
       " 1065503: 5.350781687855433e-07,\n",
       " 1223149: 1.1795568364111572e-06,\n",
       " 161: 3.9388397894040336e-07,\n",
       " 612043: 1.6699742706189157e-06,\n",
       " 1542729: 4.970276410620595e-07,\n",
       " 163: 4.973135707253389e-07,\n",
       " 1579539: 2.2499252361103107e-06,\n",
       " 1614761: 1.758741543230856e-06,\n",
       " 1772229: 1.5237886956429335e-06,\n",
       " 1746941: 1.2767630355510683e-06,\n",
       " 742658: 1.0585634514482024e-06,\n",
       " 928359: 1.1174235394828304e-06,\n",
       " 705565: 8.522760778220559e-07,\n",
       " 1533384: 7.686604198887811e-07,\n",
       " 315604: 7.306189386204266e-07,\n",
       " 810753: 6.024388249660352e-07,\n",
       " 1294153: 1.0313582217850682e-06,\n",
       " 164: 4.104229334369989e-07,\n",
       " 1478790: 1.396079065740201e-06,\n",
       " 1188073: 4.791580989920891e-07,\n",
       " 1847742: 6.86158051766087e-07,\n",
       " 165: 3.538596201156226e-07,\n",
       " 139728: 5.686570124752794e-07,\n",
       " 166: 3.6362313795015245e-07,\n",
       " 1281467: 1.023951841671656e-06,\n",
       " 536060: 7.363479015654371e-07,\n",
       " 663272: 6.667311706922079e-07,\n",
       " 167: 3.538596201156226e-07,\n",
       " 597139: 5.686570124752794e-07,\n",
       " 168: 4.495885878360843e-07,\n",
       " 952523: 8.772167491559116e-07,\n",
       " 1063176: 1.1456639286902377e-06,\n",
       " 204709: 6.705874233917392e-07,\n",
       " 942370: 6.312079014591354e-07,\n",
       " 1608317: 9.344813625764604e-07,\n",
       " 1149931: 4.440273166885774e-07,\n",
       " 1166908: 8.388453807401372e-07,\n",
       " 170: 5.423074134444772e-07,\n",
       " 930854: 1.3956829177170627e-06,\n",
       " 177989: 1.17926391048448e-06,\n",
       " 789700: 4.0918622117795837e-07,\n",
       " 1778092: 4.797075217780892e-07,\n",
       " 509793: 7.543641064754911e-07,\n",
       " 1861582: 1.1201477360376667e-06,\n",
       " 1252327: 5.901083569505467e-07,\n",
       " 1672986: 4.79231988703943e-07,\n",
       " 705856: 4.656906434393804e-07,\n",
       " 676802: 4.1763699711877e-07,\n",
       " 545836: 5.464063437127224e-07,\n",
       " 358857: 8.22887760700462e-07,\n",
       " 171: 2.1749659635108488e-06,\n",
       " 652545: 7.483546763707011e-07,\n",
       " 495157: 1.3736222313717815e-06,\n",
       " 956716: 1.1051847187244845e-06,\n",
       " 1784396: 8.870706679341732e-07,\n",
       " 665233: 1.7404275632737632e-06,\n",
       " 1773998: 9.118957516530953e-07,\n",
       " 124205: 1.8603921064803648e-06,\n",
       " 1686016: 1.5378146378430048e-06,\n",
       " 167372: 1.7092366938103237e-06,\n",
       " 1072213: 9.348318732151927e-07,\n",
       " 1210546: 2.727432361964044e-06,\n",
       " 382635: 1.3087560971414648e-06,\n",
       " 391144: 6.21784001860267e-07,\n",
       " 1405597: 7.852946418851252e-07,\n",
       " 1622184: 4.967533202706869e-07,\n",
       " 429565: 5.133202155923143e-07,\n",
       " 1262028: 8.106443104483414e-07,\n",
       " 651379: 3.647511438617156e-07,\n",
       " 1131806: 1.5000184399342864e-06,\n",
       " 183303: 8.215782514076478e-07,\n",
       " 1730708: 6.822388649075513e-07,\n",
       " 255580: 5.469086112923134e-07,\n",
       " 597356: 1.2548641152666604e-06,\n",
       " 1071272: 4.132115311623699e-07,\n",
       " 143917: 3.6873692814270073e-07,\n",
       " 1170552: 1.0418908480552858e-06,\n",
       " 1471278: 9.089837866854056e-07,\n",
       " 1756610: 4.821151673118742e-07,\n",
       " 127181: 4.363502746482679e-07,\n",
       " 1571476: 6.046941462744413e-07,\n",
       " 1267832: 4.471521287590408e-07,\n",
       " 1825254: 5.743095754321124e-07,\n",
       " 927274: 4.154330689184985e-07,\n",
       " 912681: 3.9845896300580004e-07,\n",
       " 799586: 4.0247166154438704e-07,\n",
       " 187805: 3.595121830724557e-07,\n",
       " 1400484: 3.595121830724557e-07,\n",
       " 864239: 4.132115311623699e-07,\n",
       " 172: 1.0836098661911788e-06,\n",
       " 4769: 1.6117855678386785e-06,\n",
       " 906059: 9.214284475057955e-07,\n",
       " 372997: 1.1140993886948139e-06,\n",
       " 1208963: 1.3419097169657756e-06,\n",
       " 346991: 1.6638016839991109e-06,\n",
       " 1172153: 7.853574436155779e-07,\n",
       " 161309: 6.006919262550126e-07,\n",
       " 200086: 1.2758913633206888e-06,\n",
       " 642842: 1.4838087904052028e-06,\n",
       " 153393: 1.1243789623601155e-06,\n",
       " 625473: 5.205902729356663e-07,\n",
       " 1453902: 6.957480010533925e-07,\n",
       " 703254: 5.186819655703049e-07,\n",
       " 1591526: 7.441508687862888e-07,\n",
       " 94719: 5.363750051990802e-07,\n",
       " 1851039: 4.286874274347575e-07,\n",
       " 1556441: 4.7199818591343384e-07,\n",
       " 1359168: 9.482376984833985e-07,\n",
       " 1233403: 3.909728390289321e-07,\n",
       " 891719: 4.7199818591343384e-07,\n",
       " 174: 3.538596201156226e-07,\n",
       " 1454201: 6.209794542039137e-07,\n",
       " 175: 5.328574470820033e-07,\n",
       " 262454: 2.745360606245851e-06,\n",
       " 945369: 1.3751310280041848e-06,\n",
       " 979716: 1.0612183826470214e-06,\n",
       " 176: 3.6649476084266125e-07,\n",
       " 1410138: 1.1184658396046249e-06,\n",
       " 177: 4.075589682055368e-07,\n",
       " 1337513: 5.686570124752794e-07,\n",
       " 178: 5.388240413142159e-07,\n",
       " 185820: 6.641225201906824e-07,\n",
       " 31865: 5.060077730370462e-07,\n",
       " 336157: 4.851246932243018e-07,\n",
       " 179: 6.891534062369156e-07,\n",
       " 1483220: 1.1065280919305113e-06,\n",
       " 271130: 1.2360238433299103e-06,\n",
       " 1084031: 6.20747365954637e-07,\n",
       " 861489: 6.3993034423234e-07,\n",
       " 781383: 4.0121120497700126e-07,\n",
       " 1228513: 1.002640930696971e-06,\n",
       " 1567328: 1.0047402543098908e-06,\n",
       " 96588: 6.814558230931617e-07,\n",
       " 1497030: 7.65928609298688e-07,\n",
       " 462643: 9.496103138343762e-07,\n",
       " 330270: 9.051421654605438e-07,\n",
       " 1786977: 8.079087019894531e-07,\n",
       " 310769: 1.2986314808878743e-06,\n",
       " 232801: 9.791176959038805e-07,\n",
       " 1503576: 5.229035934834276e-07,\n",
       " 486560: 4.2487522369592403e-07,\n",
       " 707486: 5.857214895721961e-07,\n",
       " 934657: 6.068118124339026e-07,\n",
       " 529357: 5.188691502582093e-07,\n",
       " 180: 3.618150790919062e-07,\n",
       " 1272584: 1.0921555057207238e-06,\n",
       " 181: 4.427431858361325e-07,\n",
       " ...}"
      ]
     },
     "execution_count": 41,
     "metadata": {},
     "output_type": "execute_result"
    }
   ],
   "source": [
    "#https://www.geeksforgeeks.org/page-rank-algorithm-implementation/\n",
    "page_rank=nx.pagerank(g,0.4)\n",
    "page_rank"
   ]
  },
  {
   "cell_type": "markdown",
   "metadata": {},
   "source": [
    "## 4.1 Shortest path:"
   ]
  },
  {
   "cell_type": "code",
   "execution_count": 42,
   "metadata": {},
   "outputs": [],
   "source": [
    "#if has direct edge then deleting that edge and calculating shortest path\n",
    "def compute_shortest_path_length(a,b):\n",
    "    p=-1\n",
    "    try:\n",
    "        if train_graph.has_edge(a,b):\n",
    "            train_graph.remove_edge(a,b)\n",
    "            p= nx.shortest_path_length(train_graph,source=a,target=b)\n",
    "            train_graph.add_edge(a,b)\n",
    "        else:\n",
    "            p= nx.shortest_path_length(train_graph,source=a,target=b)\n",
    "        return p\n",
    "    except:\n",
    "        return -1"
   ]
  },
  {
   "cell_type": "markdown",
   "metadata": {},
   "source": [
    "## 4.2 Checking for same community"
   ]
  },
  {
   "cell_type": "code",
   "execution_count": 43,
   "metadata": {},
   "outputs": [],
   "source": [
    "#getting weekly connected edges from graph \n",
    "wcc=list(nx.weakly_connected_components(train_graph))\n",
    "def belongs_to_same_wcc(a,b):\n",
    "    index = []\n",
    "    if train_graph.has_edge(b,a):\n",
    "        return 1\n",
    "    if train_graph.has_edge(a,b):\n",
    "            for i in wcc:\n",
    "                if a in i:\n",
    "                    index= i\n",
    "                    break\n",
    "            if (b in index):\n",
    "                train_graph.remove_edge(a,b)\n",
    "                if compute_shortest_path_length(a,b)==-1:\n",
    "                    train_graph.add_edge(a,b)\n",
    "                    return 0\n",
    "                else:\n",
    "                    train_graph.add_edge(a,b)\n",
    "                    return 1\n",
    "            else:\n",
    "                return 0\n",
    "    else:\n",
    "            for i in wcc:\n",
    "                if a in i:\n",
    "                    index= i\n",
    "                    break\n",
    "            if(b in index):\n",
    "                return 1\n",
    "            else:\n",
    "                return 0"
   ]
  },
  {
   "cell_type": "markdown",
   "metadata": {},
   "source": [
    "## 4.3 Adamic/Adar Index:\n",
    "Adamic/Adar measures is defined as inverted sum of degrees of common neighbours for given two vertices.\n",
    "$$A(x,y)=\\sum_{u \\in N(x) \\cap N(y)}\\frac{1}{log(|N(u)|)}$$"
   ]
  },
  {
   "cell_type": "code",
   "execution_count": 44,
   "metadata": {},
   "outputs": [],
   "source": [
    "#adar index\n",
    "def calc_adar_in(a,b):\n",
    "    sum=0\n",
    "    try:\n",
    "        n=list(set(train_graph.successors(a)).intersection(set(train_graph.successors(b))))\n",
    "        if len(n)!=0:\n",
    "            for i in n:\n",
    "                sum=sum+(1/np.log10(len(list(train_graph.predecessors(i)))))\n",
    "            return sum\n",
    "        else:\n",
    "            return 0\n",
    "    except:\n",
    "        return 0"
   ]
  },
  {
   "cell_type": "markdown",
   "metadata": {},
   "source": [
    "## 4.4 Is persion was following back:"
   ]
  },
  {
   "cell_type": "code",
   "execution_count": 45,
   "metadata": {},
   "outputs": [],
   "source": [
    "def follows_back(a,b):\n",
    "    if train_graph.has_edge(b,a):\n",
    "        return 1\n",
    "    else:\n",
    "        return 0"
   ]
  },
  {
   "cell_type": "markdown",
   "metadata": {},
   "source": [
    "## 4.5 Katz Centrality:\n",
    "https://en.wikipedia.org/wiki/Katz_centrality\n",
    "\n",
    "https://www.geeksforgeeks.org/katz-centrality-centrality-measure/\n",
    " Katz centrality computes the centrality for a node \n",
    "    based on the centrality of its neighbors. It is a \n",
    "    generalization of the eigenvector centrality. The\n",
    "    Katz centrality for node `i` is\n",
    " \n",
    "$$x_i = \\alpha \\sum_{j} A_{ij} x_j + \\beta,$$\n",
    "where `A` is the adjacency matrix of the graph G \n",
    "with eigenvalues $$\\lambda$$.\n",
    "\n",
    "The parameter $$\\beta$$ controls the initial centrality and \n",
    "\n",
    "$$\\alpha < \\frac{1}{\\lambda_{max}}.$$"
   ]
  },
  {
   "cell_type": "code",
   "execution_count": 46,
   "metadata": {},
   "outputs": [],
   "source": [
    "if not os.path.isfile('data/fea_sample/katz.p'):\n",
    "    katz = nx.katz.katz_centrality(train_graph,alpha=0.005,beta=1)\n",
    "    pickle.dump(katz,open('data/fea_sample/katz.p','wb'))\n",
    "else:\n",
    "    katz = pickle.load(open('data/fea_sample/katz.p','rb'))"
   ]
  },
  {
   "cell_type": "code",
   "execution_count": 47,
   "metadata": {},
   "outputs": [
    {
     "name": "stdout",
     "output_type": "stream",
     "text": [
      "min 0.0007313532484065916\n",
      "max 0.003394554981699122\n",
      "mean 0.0007483800935562018\n"
     ]
    }
   ],
   "source": [
    "print('min',katz[min(katz, key=katz.get)])\n",
    "print('max',katz[max(katz, key=katz.get)])\n",
    "print('mean',float(sum(katz.values())) / len(katz))"
   ]
  },
  {
   "cell_type": "code",
   "execution_count": 48,
   "metadata": {},
   "outputs": [
    {
     "name": "stdout",
     "output_type": "stream",
     "text": [
      "0.0007483800935562018\n"
     ]
    }
   ],
   "source": [
    "mean_katz = float(sum(katz.values())) / len(katz)\n",
    "print(mean_katz)"
   ]
  },
  {
   "cell_type": "markdown",
   "metadata": {},
   "source": [
    "## 4.6 Hits Score\n",
    "The HITS algorithm computes two numbers for a node. Authorities estimates the node value based on the incoming links. Hubs estimates the node value based on outgoing links.\n",
    "\n",
    "https://en.wikipedia.org/wiki/HITS_algorithm"
   ]
  },
  {
   "cell_type": "code",
   "execution_count": 49,
   "metadata": {},
   "outputs": [],
   "source": [
    "if not os.path.isfile('data/fea_sample/hits.p'):\n",
    "    hits = nx.hits(train_graph, max_iter=100, tol=1e-08, nstart=None, normalized=True)\n",
    "    pickle.dump(hits,open('data/fea_sample/hits.p','wb'))\n",
    "else:\n",
    "    hits = pickle.load(open('data/fea_sample/hits.p','rb'))"
   ]
  },
  {
   "cell_type": "code",
   "execution_count": 50,
   "metadata": {},
   "outputs": [
    {
     "name": "stdout",
     "output_type": "stream",
     "text": [
      "min 0.0\n",
      "max 0.004868653378780953\n",
      "mean 5.615699699344123e-07\n"
     ]
    }
   ],
   "source": [
    "print('min',hits[0][min(hits[0], key=hits[0].get)])\n",
    "print('max',hits[0][max(hits[0], key=hits[0].get)])\n",
    "print('mean',float(sum(hits[0].values())) / len(hits[0]))"
   ]
  },
  {
   "cell_type": "markdown",
   "metadata": {},
   "source": [
    "# 5. Featurization"
   ]
  },
  {
   "cell_type": "markdown",
   "metadata": {},
   "source": [
    "## 5. 1 Reading a sample of Data from both train and test"
   ]
  },
  {
   "cell_type": "code",
   "execution_count": 51,
   "metadata": {},
   "outputs": [],
   "source": [
    "import random\n",
    "if os.path.isfile('data/after_eda/train_after_eda.csv'):\n",
    "    filename = \"train_after_eda.csv\"\n",
    "    # you uncomment this line, if you dont know the lentgh of the file name\n",
    "    # here we have hardcoded the number of lines as 15100030\n",
    "    # n_train = sum(1 for line in open(filename)) #number of records in file (excludes header)\n",
    "    n_train =  15100028\n",
    "    s = 100000 #desired sample size\n",
    "    skip_train = sorted(random.sample(range(1,n_train+1),n_train-s))\n",
    "    #https://stackoverflow.com/a/22259008/4084039"
   ]
  },
  {
   "cell_type": "code",
   "execution_count": 52,
   "metadata": {},
   "outputs": [],
   "source": [
    "if os.path.isfile('data/after_eda/train_after_eda.csv'):\n",
    "    filename = \"test_after_eda.csv\"\n",
    "    # you uncomment this line, if you dont know the lentgh of the file name\n",
    "    # here we have hardcoded the number of lines as 3775008\n",
    "    # n_test = sum(1 for line in open(filename)) #number of records in file (excludes header)\n",
    "    n_test = 3775006\n",
    "    s = 50000 #desired sample size\n",
    "    skip_test = sorted(random.sample(range(1,n_test+1),n_test-s))\n",
    "    #https://stackoverflow.com/a/22259008/4084039"
   ]
  },
  {
   "cell_type": "code",
   "execution_count": 53,
   "metadata": {},
   "outputs": [
    {
     "name": "stdout",
     "output_type": "stream",
     "text": [
      "Number of rows in the train data file: 15100028\n",
      "Number of rows we are going to elimiate in train data are 15000028\n",
      "Number of rows in the test data file: 3775006\n",
      "Number of rows we are going to elimiate in test data are 3725006\n"
     ]
    }
   ],
   "source": [
    "print(\"Number of rows in the train data file:\", n_train)\n",
    "print(\"Number of rows we are going to elimiate in train data are\",len(skip_train))\n",
    "print(\"Number of rows in the test data file:\", n_test)\n",
    "print(\"Number of rows we are going to elimiate in test data are\",len(skip_test))"
   ]
  },
  {
   "cell_type": "code",
   "execution_count": 54,
   "metadata": {},
   "outputs": [
    {
     "name": "stdout",
     "output_type": "stream",
     "text": [
      "Our train matrix size  (100002, 3)\n"
     ]
    },
    {
     "data": {
      "text/html": [
       "<div>\n",
       "<style scoped>\n",
       "    .dataframe tbody tr th:only-of-type {\n",
       "        vertical-align: middle;\n",
       "    }\n",
       "\n",
       "    .dataframe tbody tr th {\n",
       "        vertical-align: top;\n",
       "    }\n",
       "\n",
       "    .dataframe thead th {\n",
       "        text-align: right;\n",
       "    }\n",
       "</style>\n",
       "<table border=\"1\" class=\"dataframe\">\n",
       "  <thead>\n",
       "    <tr style=\"text-align: right;\">\n",
       "      <th></th>\n",
       "      <th>source_node</th>\n",
       "      <th>destination_node</th>\n",
       "      <th>indicator_link</th>\n",
       "    </tr>\n",
       "  </thead>\n",
       "  <tbody>\n",
       "    <tr>\n",
       "      <th>0</th>\n",
       "      <td>273084</td>\n",
       "      <td>1505602</td>\n",
       "      <td>1</td>\n",
       "    </tr>\n",
       "    <tr>\n",
       "      <th>1</th>\n",
       "      <td>227087</td>\n",
       "      <td>1736008</td>\n",
       "      <td>1</td>\n",
       "    </tr>\n",
       "  </tbody>\n",
       "</table>\n",
       "</div>"
      ],
      "text/plain": [
       "   source_node  destination_node  indicator_link\n",
       "0       273084           1505602               1\n",
       "1       227087           1736008               1"
      ]
     },
     "execution_count": 54,
     "metadata": {},
     "output_type": "execute_result"
    }
   ],
   "source": [
    "df_final_train = pd.read_csv('data/after_eda/train_after_eda.csv', skiprows=skip_train, names=['source_node', 'destination_node'])\n",
    "df_final_train['indicator_link'] = pd.read_csv('data/train_y.csv', skiprows=skip_train, names=['indicator_link'])\n",
    "print(\"Our train matrix size \",df_final_train.shape)\n",
    "df_final_train.head(2)"
   ]
  },
  {
   "cell_type": "code",
   "execution_count": 55,
   "metadata": {},
   "outputs": [
    {
     "name": "stdout",
     "output_type": "stream",
     "text": [
      "Our train matrix size  (24904, 3)\n"
     ]
    },
    {
     "data": {
      "text/html": [
       "<div>\n",
       "<style scoped>\n",
       "    .dataframe tbody tr th:only-of-type {\n",
       "        vertical-align: middle;\n",
       "    }\n",
       "\n",
       "    .dataframe tbody tr th {\n",
       "        vertical-align: top;\n",
       "    }\n",
       "\n",
       "    .dataframe thead th {\n",
       "        text-align: right;\n",
       "    }\n",
       "</style>\n",
       "<table border=\"1\" class=\"dataframe\">\n",
       "  <thead>\n",
       "    <tr style=\"text-align: right;\">\n",
       "      <th></th>\n",
       "      <th>source_node</th>\n",
       "      <th>destination_node</th>\n",
       "      <th>indicator_link</th>\n",
       "    </tr>\n",
       "  </thead>\n",
       "  <tbody>\n",
       "    <tr>\n",
       "      <th>0</th>\n",
       "      <td>848424</td>\n",
       "      <td>784690</td>\n",
       "      <td>1</td>\n",
       "    </tr>\n",
       "    <tr>\n",
       "      <th>1</th>\n",
       "      <td>1849765</td>\n",
       "      <td>115543</td>\n",
       "      <td>1</td>\n",
       "    </tr>\n",
       "  </tbody>\n",
       "</table>\n",
       "</div>"
      ],
      "text/plain": [
       "   source_node  destination_node  indicator_link\n",
       "0       848424            784690               1\n",
       "1      1849765            115543               1"
      ]
     },
     "execution_count": 55,
     "metadata": {},
     "output_type": "execute_result"
    }
   ],
   "source": [
    "df_final_test = pd.read_csv('data/after_eda/test_after_eda.csv', skiprows=skip_train, names=['source_node', 'destination_node'])\n",
    "df_final_test['indicator_link'] = pd.read_csv('data/test_y.csv', skiprows=skip_train, names=['indicator_link'])\n",
    "print(\"Our train matrix size \",df_final_test.shape)\n",
    "df_final_test.head(2)"
   ]
  },
  {
   "cell_type": "markdown",
   "metadata": {},
   "source": [
    "## 5.2 Adding a set of features\n",
    "\n",
    "__we will create these each of these features for both train and test data points__\n",
    "<ol>\n",
    "<li>jaccard_followers</li>\n",
    "<li>jaccard_followees</li>\n",
    "<li>cosine_followers</li>\n",
    "<li>cosine_followees</li>\n",
    "<li>num_followers_s</li>\n",
    "<li>num_followees_s</li>\n",
    "<li>num_followers_d</li>\n",
    "<li>num_followees_d</li>\n",
    "<li>inter_followers</li>\n",
    "<li>inter_followees</li>\n",
    "</ol>"
   ]
  },
  {
   "cell_type": "code",
   "execution_count": 56,
   "metadata": {},
   "outputs": [],
   "source": [
    "def compute_features_stage1(df_final):\n",
    "    #calculating no of followers followees for source and destination\n",
    "    #calculating intersection of followers and followees for source and destination\n",
    "    num_followers_s=[]\n",
    "    num_followees_s=[]\n",
    "    num_followers_d=[]\n",
    "    num_followees_d=[]\n",
    "    inter_followers=[]\n",
    "    inter_followees=[]\n",
    "    for i,row in df_final.iterrows():\n",
    "        try:\n",
    "            s1=set(train_graph.predecessors(row['source_node']))\n",
    "            s2=set(train_graph.successors(row['source_node']))\n",
    "        except:\n",
    "            s1 = set()\n",
    "            s2 = set()\n",
    "        try:\n",
    "            d1=set(train_graph.predecessors(row['destination_node']))\n",
    "            d2=set(train_graph.successors(row['destination_node']))\n",
    "        except:\n",
    "            d1 = set()\n",
    "            d2 = set()\n",
    "        num_followers_s.append(len(s1))\n",
    "        num_followees_s.append(len(s2))\n",
    "\n",
    "        num_followers_d.append(len(d1))\n",
    "        num_followees_d.append(len(d2))\n",
    "\n",
    "        inter_followers.append(len(s1.intersection(d1)))\n",
    "        inter_followees.append(len(s2.intersection(d2)))\n",
    "    \n",
    "    return  num_followers_s,num_followees_s,num_followers_d,num_followees_d,inter_followers,inter_followees"
   ]
  },
  {
   "cell_type": "code",
   "execution_count": 57,
   "metadata": {},
   "outputs": [],
   "source": [
    "import h5py\n",
    "from pandas import read_hdf\n",
    "\n",
    "if not os.path.isfile('data/fea_sample/storage_sample_stage1.h5'):\n",
    "    df_final_train['num_followers_s'], df_final_train['num_followers_d'], \\\n",
    "    df_final_train['num_followees_s'], df_final_train['num_followees_d'], \\\n",
    "    df_final_train['inter_followers'], df_final_train['inter_followees']= compute_features_stage1(df_final_train)\n",
    "    \n",
    "    df_final_test['num_followers_s'], df_final_test['num_followers_d'], \\\n",
    "    df_final_test['num_followees_s'], df_final_test['num_followees_d'], \\\n",
    "    df_final_test['inter_followers'], df_final_test['inter_followees']= compute_features_stage1(df_final_test)\n",
    "    \n",
    "    df_final_train['jaccard_followers'] = df_final_train.apply(lambda row: jaccard_for_followers(row['source_node'],row['destination_node']),axis=1)\n",
    "    df_final_train['jaccard_followees'] = df_final_train.apply(lambda row: jaccard_for_followees(row['source_node'],row['destination_node']),axis=1)\n",
    "\n",
    "\n",
    "    df_final_test['cosine_followers'] = df_final_test.apply(lambda row: cosine_for_followers(row['source_node'],row['destination_node']),axis=1)\n",
    "    df_final_test['cosine_followees'] = df_final_test.apply(lambda row: cosine_for_followees(row['source_node'],row['destination_node']),axis=1)\n",
    "\n",
    "    \n",
    "    hdf = HDFStore('data/fea_sample/storage_sample_stage1.h5')\n",
    "    hdf.put('train_df',df_final_train, format='table', data_columns=True)\n",
    "    hdf.put('test_df',df_final_test, format='table', data_columns=True)\n",
    "    hdf.close()\n",
    "else:\n",
    "    df_final_train = read_hdf('data/fea_sample/storage_sample_stage1.h5', 'train_df',mode='r')\n",
    "    df_final_test = read_hdf('data/fea_sample/storage_sample_stage1.h5', 'test_df',mode='r')"
   ]
  },
  {
   "cell_type": "code",
   "execution_count": 58,
   "metadata": {},
   "outputs": [
    {
     "data": {
      "text/html": [
       "<div>\n",
       "<style scoped>\n",
       "    .dataframe tbody tr th:only-of-type {\n",
       "        vertical-align: middle;\n",
       "    }\n",
       "\n",
       "    .dataframe tbody tr th {\n",
       "        vertical-align: top;\n",
       "    }\n",
       "\n",
       "    .dataframe thead th {\n",
       "        text-align: right;\n",
       "    }\n",
       "</style>\n",
       "<table border=\"1\" class=\"dataframe\">\n",
       "  <thead>\n",
       "    <tr style=\"text-align: right;\">\n",
       "      <th></th>\n",
       "      <th>source_node</th>\n",
       "      <th>destination_node</th>\n",
       "      <th>indicator_link</th>\n",
       "      <th>jaccard_followers</th>\n",
       "      <th>jaccard_followees</th>\n",
       "      <th>cosine_followers</th>\n",
       "      <th>cosine_followees</th>\n",
       "      <th>num_followers_s</th>\n",
       "      <th>num_followees_s</th>\n",
       "      <th>num_followees_d</th>\n",
       "      <th>inter_followers</th>\n",
       "      <th>inter_followees</th>\n",
       "    </tr>\n",
       "  </thead>\n",
       "  <tbody>\n",
       "    <tr>\n",
       "      <th>0</th>\n",
       "      <td>273084</td>\n",
       "      <td>1505602</td>\n",
       "      <td>1</td>\n",
       "      <td>0</td>\n",
       "      <td>0.000000</td>\n",
       "      <td>0.000000</td>\n",
       "      <td>0.000000</td>\n",
       "      <td>6</td>\n",
       "      <td>15</td>\n",
       "      <td>8</td>\n",
       "      <td>0</td>\n",
       "      <td>0</td>\n",
       "    </tr>\n",
       "    <tr>\n",
       "      <th>1</th>\n",
       "      <td>832016</td>\n",
       "      <td>1543415</td>\n",
       "      <td>1</td>\n",
       "      <td>0</td>\n",
       "      <td>0.187135</td>\n",
       "      <td>0.028382</td>\n",
       "      <td>0.343828</td>\n",
       "      <td>94</td>\n",
       "      <td>61</td>\n",
       "      <td>142</td>\n",
       "      <td>11</td>\n",
       "      <td>32</td>\n",
       "    </tr>\n",
       "    <tr>\n",
       "      <th>2</th>\n",
       "      <td>1325247</td>\n",
       "      <td>760242</td>\n",
       "      <td>1</td>\n",
       "      <td>0</td>\n",
       "      <td>0.369565</td>\n",
       "      <td>0.156957</td>\n",
       "      <td>0.566038</td>\n",
       "      <td>28</td>\n",
       "      <td>41</td>\n",
       "      <td>22</td>\n",
       "      <td>26</td>\n",
       "      <td>17</td>\n",
       "    </tr>\n",
       "    <tr>\n",
       "      <th>3</th>\n",
       "      <td>1368400</td>\n",
       "      <td>1006992</td>\n",
       "      <td>1</td>\n",
       "      <td>0</td>\n",
       "      <td>0.000000</td>\n",
       "      <td>0.000000</td>\n",
       "      <td>0.000000</td>\n",
       "      <td>11</td>\n",
       "      <td>5</td>\n",
       "      <td>7</td>\n",
       "      <td>0</td>\n",
       "      <td>0</td>\n",
       "    </tr>\n",
       "    <tr>\n",
       "      <th>4</th>\n",
       "      <td>140165</td>\n",
       "      <td>1708748</td>\n",
       "      <td>1</td>\n",
       "      <td>0</td>\n",
       "      <td>0.000000</td>\n",
       "      <td>0.000000</td>\n",
       "      <td>0.000000</td>\n",
       "      <td>1</td>\n",
       "      <td>11</td>\n",
       "      <td>3</td>\n",
       "      <td>0</td>\n",
       "      <td>0</td>\n",
       "    </tr>\n",
       "  </tbody>\n",
       "</table>\n",
       "</div>"
      ],
      "text/plain": [
       "   source_node  destination_node  indicator_link  jaccard_followers  \\\n",
       "0       273084           1505602               1                  0   \n",
       "1       832016           1543415               1                  0   \n",
       "2      1325247            760242               1                  0   \n",
       "3      1368400           1006992               1                  0   \n",
       "4       140165           1708748               1                  0   \n",
       "\n",
       "   jaccard_followees  cosine_followers  cosine_followees  num_followers_s  \\\n",
       "0           0.000000          0.000000          0.000000                6   \n",
       "1           0.187135          0.028382          0.343828               94   \n",
       "2           0.369565          0.156957          0.566038               28   \n",
       "3           0.000000          0.000000          0.000000               11   \n",
       "4           0.000000          0.000000          0.000000                1   \n",
       "\n",
       "   num_followees_s  num_followees_d  inter_followers  inter_followees  \n",
       "0               15                8                0                0  \n",
       "1               61              142               11               32  \n",
       "2               41               22               26               17  \n",
       "3                5                7                0                0  \n",
       "4               11                3                0                0  "
      ]
     },
     "execution_count": 58,
     "metadata": {},
     "output_type": "execute_result"
    }
   ],
   "source": [
    "df_final_train.head()"
   ]
  },
  {
   "cell_type": "markdown",
   "metadata": {},
   "source": [
    "\n",
    "## 5.3 Adding new set of features\n",
    "\n",
    "__we will create these each of these features for both train and test data points__\n",
    "<ol>\n",
    "<li>adar index</li>\n",
    "<li>is following back</li>\n",
    "<li>belongs to same weakly connect components</li>\n",
    "<li>shortest path between source and destination</li>\n",
    "</ol>"
   ]
  },
  {
   "cell_type": "code",
   "execution_count": 59,
   "metadata": {},
   "outputs": [],
   "source": [
    "if not os.path.isfile('data/fea_sample/storage_sample_stage2.h5'):\n",
    "    #mapping adar index on train\n",
    "    df_final_train['adar_index'] = df_final_train.apply(lambda row: calc_adar_in(row['source_node'],row['destination_node']),axis=1)\n",
    "    #mapping adar index on test\n",
    "    df_final_test['adar_index'] = df_final_test.apply(lambda row: calc_adar_in(row['source_node'],row['destination_node']),axis=1)\n",
    "\n",
    "    #--------------------------------------------------------------------------------------------------------\n",
    "    #mapping followback or not on train\n",
    "    df_final_train['follows_back'] = df_final_train.apply(lambda row: follows_back(row['source_node'],row['destination_node']),axis=1)\n",
    "\n",
    "    #mapping followback or not on test\n",
    "    df_final_test['follows_back'] = df_final_test.apply(lambda row: follows_back(row['source_node'],row['destination_node']),axis=1)\n",
    "\n",
    "    #--------------------------------------------------------------------------------------------------------\n",
    "    #mapping same component of wcc or not on train\n",
    "    df_final_train['same_comp'] = df_final_train.apply(lambda row: belongs_to_same_wcc(row['source_node'],row['destination_node']),axis=1)\n",
    "\n",
    "    ##mapping same component of wcc or not on train\n",
    "    df_final_test['same_comp'] = df_final_test.apply(lambda row: belongs_to_same_wcc(row['source_node'],row['destination_node']),axis=1)\n",
    "    \n",
    "    #--------------------------------------------------------------------------------------------------------\n",
    "    #mapping shortest path on train \n",
    "    df_final_train['shortest_path'] = df_final_train.apply(lambda row: compute_shortest_path_length(row['source_node'],row['destination_node']),axis=1)\n",
    "    #mapping shortest path on test\n",
    "    df_final_test['shortest_path'] = df_final_test.apply(lambda row: compute_shortest_path_length(row['source_node'],row['destination_node']),axis=1)\n",
    "\n",
    "    hdf = HDFStore('data/fea_sample/storage_sample_stage2.h5')\n",
    "    hdf.put('train_df',df_final_train, format='table', data_columns=True)\n",
    "    hdf.put('test_df',df_final_test, format='table', data_columns=True)\n",
    "    hdf.close()\n",
    "else:\n",
    "    df_final_train = read_hdf('data/fea_sample/storage_sample_stage2.h5', 'train_df',mode='r')\n",
    "    df_final_test = read_hdf('data/fea_sample/storage_sample_stage2.h5', 'test_df',mode='r')"
   ]
  },
  {
   "cell_type": "code",
   "execution_count": 60,
   "metadata": {},
   "outputs": [
    {
     "data": {
      "text/html": [
       "<div>\n",
       "<style scoped>\n",
       "    .dataframe tbody tr th:only-of-type {\n",
       "        vertical-align: middle;\n",
       "    }\n",
       "\n",
       "    .dataframe tbody tr th {\n",
       "        vertical-align: top;\n",
       "    }\n",
       "\n",
       "    .dataframe thead th {\n",
       "        text-align: right;\n",
       "    }\n",
       "</style>\n",
       "<table border=\"1\" class=\"dataframe\">\n",
       "  <thead>\n",
       "    <tr style=\"text-align: right;\">\n",
       "      <th></th>\n",
       "      <th>source_node</th>\n",
       "      <th>destination_node</th>\n",
       "      <th>indicator_link</th>\n",
       "      <th>jaccard_followers</th>\n",
       "      <th>jaccard_followees</th>\n",
       "      <th>cosine_followers</th>\n",
       "      <th>cosine_followees</th>\n",
       "      <th>num_followers_s</th>\n",
       "      <th>num_followees_s</th>\n",
       "      <th>num_followees_d</th>\n",
       "      <th>inter_followers</th>\n",
       "      <th>inter_followees</th>\n",
       "      <th>adar_index</th>\n",
       "      <th>follows_back</th>\n",
       "      <th>same_comp</th>\n",
       "      <th>shortest_path</th>\n",
       "    </tr>\n",
       "  </thead>\n",
       "  <tbody>\n",
       "    <tr>\n",
       "      <th>0</th>\n",
       "      <td>273084</td>\n",
       "      <td>1505602</td>\n",
       "      <td>1</td>\n",
       "      <td>0</td>\n",
       "      <td>0.000000</td>\n",
       "      <td>0.000000</td>\n",
       "      <td>0.000000</td>\n",
       "      <td>6</td>\n",
       "      <td>15</td>\n",
       "      <td>8</td>\n",
       "      <td>0</td>\n",
       "      <td>0</td>\n",
       "      <td>0.000000</td>\n",
       "      <td>0</td>\n",
       "      <td>1</td>\n",
       "      <td>4</td>\n",
       "    </tr>\n",
       "    <tr>\n",
       "      <th>1</th>\n",
       "      <td>832016</td>\n",
       "      <td>1543415</td>\n",
       "      <td>1</td>\n",
       "      <td>0</td>\n",
       "      <td>0.187135</td>\n",
       "      <td>0.028382</td>\n",
       "      <td>0.343828</td>\n",
       "      <td>94</td>\n",
       "      <td>61</td>\n",
       "      <td>142</td>\n",
       "      <td>11</td>\n",
       "      <td>32</td>\n",
       "      <td>16.362912</td>\n",
       "      <td>0</td>\n",
       "      <td>1</td>\n",
       "      <td>2</td>\n",
       "    </tr>\n",
       "    <tr>\n",
       "      <th>2</th>\n",
       "      <td>1325247</td>\n",
       "      <td>760242</td>\n",
       "      <td>1</td>\n",
       "      <td>0</td>\n",
       "      <td>0.369565</td>\n",
       "      <td>0.156957</td>\n",
       "      <td>0.566038</td>\n",
       "      <td>28</td>\n",
       "      <td>41</td>\n",
       "      <td>22</td>\n",
       "      <td>26</td>\n",
       "      <td>17</td>\n",
       "      <td>10.991826</td>\n",
       "      <td>0</td>\n",
       "      <td>1</td>\n",
       "      <td>2</td>\n",
       "    </tr>\n",
       "    <tr>\n",
       "      <th>3</th>\n",
       "      <td>1368400</td>\n",
       "      <td>1006992</td>\n",
       "      <td>1</td>\n",
       "      <td>0</td>\n",
       "      <td>0.000000</td>\n",
       "      <td>0.000000</td>\n",
       "      <td>0.000000</td>\n",
       "      <td>11</td>\n",
       "      <td>5</td>\n",
       "      <td>7</td>\n",
       "      <td>0</td>\n",
       "      <td>0</td>\n",
       "      <td>0.000000</td>\n",
       "      <td>0</td>\n",
       "      <td>1</td>\n",
       "      <td>6</td>\n",
       "    </tr>\n",
       "    <tr>\n",
       "      <th>4</th>\n",
       "      <td>140165</td>\n",
       "      <td>1708748</td>\n",
       "      <td>1</td>\n",
       "      <td>0</td>\n",
       "      <td>0.000000</td>\n",
       "      <td>0.000000</td>\n",
       "      <td>0.000000</td>\n",
       "      <td>1</td>\n",
       "      <td>11</td>\n",
       "      <td>3</td>\n",
       "      <td>0</td>\n",
       "      <td>0</td>\n",
       "      <td>0.000000</td>\n",
       "      <td>0</td>\n",
       "      <td>0</td>\n",
       "      <td>-1</td>\n",
       "    </tr>\n",
       "  </tbody>\n",
       "</table>\n",
       "</div>"
      ],
      "text/plain": [
       "   source_node  destination_node  indicator_link  jaccard_followers  \\\n",
       "0       273084           1505602               1                  0   \n",
       "1       832016           1543415               1                  0   \n",
       "2      1325247            760242               1                  0   \n",
       "3      1368400           1006992               1                  0   \n",
       "4       140165           1708748               1                  0   \n",
       "\n",
       "   jaccard_followees  cosine_followers  cosine_followees  num_followers_s  \\\n",
       "0           0.000000          0.000000          0.000000                6   \n",
       "1           0.187135          0.028382          0.343828               94   \n",
       "2           0.369565          0.156957          0.566038               28   \n",
       "3           0.000000          0.000000          0.000000               11   \n",
       "4           0.000000          0.000000          0.000000                1   \n",
       "\n",
       "   num_followees_s  num_followees_d  inter_followers  inter_followees  \\\n",
       "0               15                8                0                0   \n",
       "1               61              142               11               32   \n",
       "2               41               22               26               17   \n",
       "3                5                7                0                0   \n",
       "4               11                3                0                0   \n",
       "\n",
       "   adar_index  follows_back  same_comp  shortest_path  \n",
       "0    0.000000             0          1              4  \n",
       "1   16.362912             0          1              2  \n",
       "2   10.991826             0          1              2  \n",
       "3    0.000000             0          1              6  \n",
       "4    0.000000             0          0             -1  "
      ]
     },
     "execution_count": 60,
     "metadata": {},
     "output_type": "execute_result"
    }
   ],
   "source": [
    "df_final_train.head()"
   ]
  },
  {
   "cell_type": "markdown",
   "metadata": {},
   "source": [
    "## 5.4 Adding new set of features\n",
    "\n",
    "__we will create these each of these features for both train and test data points__\n",
    "<ol>\n",
    "<li>Weight Features\n",
    "    <ul>\n",
    "        <li>weight of incoming edges</li>\n",
    "        <li>weight of outgoing edges</li>\n",
    "        <li>weight of incoming edges + weight of outgoing edges</li>\n",
    "        <li>weight of incoming edges * weight of outgoing edges</li>\n",
    "        <li>2*weight of incoming edges + weight of outgoing edges</li>\n",
    "        <li>weight of incoming edges + 2*weight of outgoing edges</li>\n",
    "    </ul>\n",
    "</li>\n",
    "<li>Page Ranking of source</li>\n",
    "<li>Page Ranking of dest</li>\n",
    "<li>katz of source</li>\n",
    "<li>katz of dest</li>\n",
    "<li>hubs of source</li>\n",
    "<li>hubs of dest</li>\n",
    "<li>authorities_s of source</li>\n",
    "<li>authorities_s of dest</li>\n",
    "</ol>"
   ]
  },
  {
   "cell_type": "markdown",
   "metadata": {},
   "source": [
    "#### Weight Features\n",
    "\n",
    "In order to determine the similarity of nodes, an edge weight value was calculated between nodes. Edge weight decreases as the neighbor count goes up. Intuitively, consider one million people following a celebrity on a social network then chances are most of them never met each other or the celebrity. On the other hand, if a user has 30 contacts in his/her social network, the chances are higher that many of them know each other. \n",
    "`credit` - Graph-based Features for Supervised Link Prediction\n",
    "William Cukierski, Benjamin Hamner, Bo Yang Yang\n",
    "\n",
    "\\begin{equation}\n",
    "W = \\frac{1}{\\sqrt{1+|X|}}\n",
    "\\end{equation}\n",
    "\n",
    "it is directed graph so calculated Weighted in and Weighted out differently\n"
   ]
  },
  {
   "cell_type": "code",
   "execution_count": 61,
   "metadata": {},
   "outputs": [
    {
     "name": "stderr",
     "output_type": "stream",
     "text": [
      "100%|████████████████████████████████████████████████████████████████████| 1780722/1780722 [00:12<00:00, 148270.75it/s]\n"
     ]
    }
   ],
   "source": [
    "from tqdm import tqdm\n",
    "#weight for source and destination of each link\n",
    "Weight_in = {}\n",
    "Weight_out = {}\n",
    "for i in  tqdm(train_graph.nodes()):\n",
    "    s1=set(train_graph.predecessors(i))\n",
    "    w_in = 1.0/(np.sqrt(1+len(s1)))\n",
    "    Weight_in[i]=w_in\n",
    "    \n",
    "    s2=set(train_graph.successors(i))\n",
    "    w_out = 1.0/(np.sqrt(1+len(s2)))\n",
    "    Weight_out[i]=w_out\n",
    "    \n",
    "#for imputing with mean\n",
    "mean_weight_in = np.mean(list(Weight_in.values()))\n",
    "mean_weight_out = np.mean(list(Weight_out.values()))"
   ]
  },
  {
   "cell_type": "code",
   "execution_count": 62,
   "metadata": {},
   "outputs": [],
   "source": [
    "if not os.path.isfile('data/fea_sample/storage_sample_stage3.h5'):\n",
    "    #mapping to pandas train\n",
    "    df_final_train['weight_in'] = df_final_train.destination_node.apply(lambda x: Weight_in.get(x,mean_weight_in))\n",
    "    df_final_train['weight_out'] = df_final_train.source_node.apply(lambda x: Weight_out.get(x,mean_weight_out))\n",
    "\n",
    "    #mapping to pandas test\n",
    "    df_final_test['weight_in'] = df_final_test.destination_node.apply(lambda x: Weight_in.get(x,mean_weight_in))\n",
    "    df_final_test['weight_out'] = df_final_test.source_node.apply(lambda x: Weight_out.get(x,mean_weight_out))\n",
    "\n",
    "\n",
    "    #some features engineerings on the in and out weights\n",
    "    df_final_train['weight_f1'] = df_final_train.weight_in + df_final_train.weight_out\n",
    "    df_final_train['weight_f2'] = df_final_train.weight_in * df_final_train.weight_out\n",
    "    df_final_train['weight_f3'] = (2*df_final_train.weight_in + 1*df_final_train.weight_out)\n",
    "    df_final_train['weight_f4'] = (1*df_final_train.weight_in + 2*df_final_train.weight_out)\n",
    "\n",
    "    #some features engineerings on the in and out weights\n",
    "    df_final_test['weight_f1'] = df_final_test.weight_in + df_final_test.weight_out\n",
    "    df_final_test['weight_f2'] = df_final_test.weight_in * df_final_test.weight_out\n",
    "    df_final_test['weight_f3'] = (2*df_final_test.weight_in + 1*df_final_test.weight_out)\n",
    "    df_final_test['weight_f4'] = (1*df_final_test.weight_in + 2*df_final_test.weight_out)"
   ]
  },
  {
   "cell_type": "code",
   "execution_count": 63,
   "metadata": {},
   "outputs": [],
   "source": [
    "if not os.path.isfile('data/fea_sample/storage_sample_stage3.h5'):\n",
    "    \n",
    "    #page rank for source and destination in Train and Test\n",
    "    #if anything not there in train graph then adding mean page rank \n",
    "    df_final_train['page_rank_s'] = df_final_train.source_node.apply(lambda x:pr.get(x,mean_pr))\n",
    "    df_final_train['page_rank_d'] = df_final_train.destination_node.apply(lambda x:pr.get(x,mean_pr))\n",
    "\n",
    "    df_final_test['page_rank_s'] = df_final_test.source_node.apply(lambda x:pr.get(x,mean_pr))\n",
    "    df_final_test['page_rank_d'] = df_final_test.destination_node.apply(lambda x:pr.get(x,mean_pr))\n",
    "    #================================================================================\n",
    "\n",
    "    #Katz centrality score for source and destination in Train and test\n",
    "    #if anything not there in train graph then adding mean katz score\n",
    "    df_final_train['katz_s'] = df_final_train.source_node.apply(lambda x: katz.get(x,mean_katz))\n",
    "    df_final_train['katz_d'] = df_final_train.destination_node.apply(lambda x: katz.get(x,mean_katz))\n",
    "\n",
    "    df_final_test['katz_s'] = df_final_test.source_node.apply(lambda x: katz.get(x,mean_katz))\n",
    "    df_final_test['katz_d'] = df_final_test.destination_node.apply(lambda x: katz.get(x,mean_katz))\n",
    "    #================================================================================\n",
    "\n",
    "    #Hits algorithm score for source and destination in Train and test\n",
    "    #if anything not there in train graph then adding 0\n",
    "    df_final_train['hubs_s'] = df_final_train.source_node.apply(lambda x: hits[0].get(x,0))\n",
    "    df_final_train['hubs_d'] = df_final_train.destination_node.apply(lambda x: hits[0].get(x,0))\n",
    "\n",
    "    df_final_test['hubs_s'] = df_final_test.source_node.apply(lambda x: hits[0].get(x,0))\n",
    "    df_final_test['hubs_d'] = df_final_test.destination_node.apply(lambda x: hits[0].get(x,0))\n",
    "    #================================================================================\n",
    "\n",
    "    #Hits algorithm score for source and destination in Train and Test\n",
    "    #if anything not there in train graph then adding 0\n",
    "    df_final_train['authorities_s'] = df_final_train.source_node.apply(lambda x: hits[1].get(x,0))\n",
    "    df_final_train['authorities_d'] = df_final_train.destination_node.apply(lambda x: hits[1].get(x,0))\n",
    "\n",
    "    df_final_test['authorities_s'] = df_final_test.source_node.apply(lambda x: hits[1].get(x,0))\n",
    "    df_final_test['authorities_d'] = df_final_test.destination_node.apply(lambda x: hits[1].get(x,0))\n",
    "    #================================================================================\n",
    "\n",
    "    hdf = HDFStore('data/fea_sample/storage_sample_stage3.h5')\n",
    "    hdf.put('train_df',df_final_train, format='table', data_columns=True)\n",
    "    hdf.put('test_df',df_final_test, format='table', data_columns=True)\n",
    "    hdf.close()\n",
    "else:\n",
    "    df_final_train = read_hdf('data/fea_sample/storage_sample_stage3.h5', 'train_df',mode='r')\n",
    "    df_final_test = read_hdf('data/fea_sample/storage_sample_stage3.h5', 'test_df',mode='r')"
   ]
  },
  {
   "cell_type": "code",
   "execution_count": 64,
   "metadata": {},
   "outputs": [
    {
     "data": {
      "text/html": [
       "<div>\n",
       "<style scoped>\n",
       "    .dataframe tbody tr th:only-of-type {\n",
       "        vertical-align: middle;\n",
       "    }\n",
       "\n",
       "    .dataframe tbody tr th {\n",
       "        vertical-align: top;\n",
       "    }\n",
       "\n",
       "    .dataframe thead th {\n",
       "        text-align: right;\n",
       "    }\n",
       "</style>\n",
       "<table border=\"1\" class=\"dataframe\">\n",
       "  <thead>\n",
       "    <tr style=\"text-align: right;\">\n",
       "      <th></th>\n",
       "      <th>source_node</th>\n",
       "      <th>destination_node</th>\n",
       "      <th>indicator_link</th>\n",
       "      <th>jaccard_followers</th>\n",
       "      <th>jaccard_followees</th>\n",
       "      <th>cosine_followers</th>\n",
       "      <th>cosine_followees</th>\n",
       "      <th>num_followers_s</th>\n",
       "      <th>num_followees_s</th>\n",
       "      <th>num_followees_d</th>\n",
       "      <th>...</th>\n",
       "      <th>weight_f3</th>\n",
       "      <th>weight_f4</th>\n",
       "      <th>page_rank_s</th>\n",
       "      <th>page_rank_d</th>\n",
       "      <th>katz_s</th>\n",
       "      <th>katz_d</th>\n",
       "      <th>hubs_s</th>\n",
       "      <th>hubs_d</th>\n",
       "      <th>authorities_s</th>\n",
       "      <th>authorities_d</th>\n",
       "    </tr>\n",
       "  </thead>\n",
       "  <tbody>\n",
       "    <tr>\n",
       "      <th>0</th>\n",
       "      <td>273084</td>\n",
       "      <td>1505602</td>\n",
       "      <td>1</td>\n",
       "      <td>0</td>\n",
       "      <td>0.000000</td>\n",
       "      <td>0.000000</td>\n",
       "      <td>0.000000</td>\n",
       "      <td>6</td>\n",
       "      <td>15</td>\n",
       "      <td>8</td>\n",
       "      <td>...</td>\n",
       "      <td>1.005929</td>\n",
       "      <td>0.877964</td>\n",
       "      <td>2.045290e-06</td>\n",
       "      <td>3.459963e-07</td>\n",
       "      <td>0.000773</td>\n",
       "      <td>0.000756</td>\n",
       "      <td>1.943132e-13</td>\n",
       "      <td>1.941103e-13</td>\n",
       "      <td>9.226339e-16</td>\n",
       "      <td>2.231877e-15</td>\n",
       "    </tr>\n",
       "    <tr>\n",
       "      <th>1</th>\n",
       "      <td>832016</td>\n",
       "      <td>1543415</td>\n",
       "      <td>1</td>\n",
       "      <td>0</td>\n",
       "      <td>0.187135</td>\n",
       "      <td>0.028382</td>\n",
       "      <td>0.343828</td>\n",
       "      <td>94</td>\n",
       "      <td>61</td>\n",
       "      <td>142</td>\n",
       "      <td>...</td>\n",
       "      <td>0.332196</td>\n",
       "      <td>0.356598</td>\n",
       "      <td>2.353458e-07</td>\n",
       "      <td>6.427660e-07</td>\n",
       "      <td>0.000845</td>\n",
       "      <td>0.001317</td>\n",
       "      <td>3.906648e-11</td>\n",
       "      <td>9.424102e-11</td>\n",
       "      <td>1.208074e-11</td>\n",
       "      <td>1.273080e-10</td>\n",
       "    </tr>\n",
       "    <tr>\n",
       "      <th>2</th>\n",
       "      <td>1325247</td>\n",
       "      <td>760242</td>\n",
       "      <td>1</td>\n",
       "      <td>0</td>\n",
       "      <td>0.369565</td>\n",
       "      <td>0.156957</td>\n",
       "      <td>0.566038</td>\n",
       "      <td>28</td>\n",
       "      <td>41</td>\n",
       "      <td>22</td>\n",
       "      <td>...</td>\n",
       "      <td>0.525694</td>\n",
       "      <td>0.494302</td>\n",
       "      <td>6.211019e-07</td>\n",
       "      <td>5.179801e-07</td>\n",
       "      <td>0.000885</td>\n",
       "      <td>0.000855</td>\n",
       "      <td>7.730764e-114</td>\n",
       "      <td>4.067322e-114</td>\n",
       "      <td>2.681298e-113</td>\n",
       "      <td>2.199205e-113</td>\n",
       "    </tr>\n",
       "    <tr>\n",
       "      <th>3</th>\n",
       "      <td>1368400</td>\n",
       "      <td>1006992</td>\n",
       "      <td>1</td>\n",
       "      <td>0</td>\n",
       "      <td>0.000000</td>\n",
       "      <td>0.000000</td>\n",
       "      <td>0.000000</td>\n",
       "      <td>11</td>\n",
       "      <td>5</td>\n",
       "      <td>7</td>\n",
       "      <td>...</td>\n",
       "      <td>0.985599</td>\n",
       "      <td>1.105172</td>\n",
       "      <td>2.998153e-07</td>\n",
       "      <td>1.704245e-06</td>\n",
       "      <td>0.000739</td>\n",
       "      <td>0.000773</td>\n",
       "      <td>5.443738e-17</td>\n",
       "      <td>4.139999e-16</td>\n",
       "      <td>2.413250e-14</td>\n",
       "      <td>6.688064e-15</td>\n",
       "    </tr>\n",
       "    <tr>\n",
       "      <th>4</th>\n",
       "      <td>140165</td>\n",
       "      <td>1708748</td>\n",
       "      <td>1</td>\n",
       "      <td>0</td>\n",
       "      <td>0.000000</td>\n",
       "      <td>0.000000</td>\n",
       "      <td>0.000000</td>\n",
       "      <td>1</td>\n",
       "      <td>11</td>\n",
       "      <td>3</td>\n",
       "      <td>...</td>\n",
       "      <td>2.301511</td>\n",
       "      <td>1.603023</td>\n",
       "      <td>4.349180e-07</td>\n",
       "      <td>2.089590e-07</td>\n",
       "      <td>0.000751</td>\n",
       "      <td>0.000735</td>\n",
       "      <td>3.887821e-16</td>\n",
       "      <td>4.721269e-16</td>\n",
       "      <td>7.552255e-16</td>\n",
       "      <td>2.734009e-18</td>\n",
       "    </tr>\n",
       "  </tbody>\n",
       "</table>\n",
       "<p>5 rows × 30 columns</p>\n",
       "</div>"
      ],
      "text/plain": [
       "   source_node  destination_node  indicator_link  jaccard_followers  \\\n",
       "0       273084           1505602               1                  0   \n",
       "1       832016           1543415               1                  0   \n",
       "2      1325247            760242               1                  0   \n",
       "3      1368400           1006992               1                  0   \n",
       "4       140165           1708748               1                  0   \n",
       "\n",
       "   jaccard_followees  cosine_followers  cosine_followees  num_followers_s  \\\n",
       "0           0.000000          0.000000          0.000000                6   \n",
       "1           0.187135          0.028382          0.343828               94   \n",
       "2           0.369565          0.156957          0.566038               28   \n",
       "3           0.000000          0.000000          0.000000               11   \n",
       "4           0.000000          0.000000          0.000000                1   \n",
       "\n",
       "   num_followees_s  num_followees_d  ...  weight_f3  weight_f4   page_rank_s  \\\n",
       "0               15                8  ...   1.005929   0.877964  2.045290e-06   \n",
       "1               61              142  ...   0.332196   0.356598  2.353458e-07   \n",
       "2               41               22  ...   0.525694   0.494302  6.211019e-07   \n",
       "3                5                7  ...   0.985599   1.105172  2.998153e-07   \n",
       "4               11                3  ...   2.301511   1.603023  4.349180e-07   \n",
       "\n",
       "    page_rank_d    katz_s    katz_d         hubs_s         hubs_d  \\\n",
       "0  3.459963e-07  0.000773  0.000756   1.943132e-13   1.941103e-13   \n",
       "1  6.427660e-07  0.000845  0.001317   3.906648e-11   9.424102e-11   \n",
       "2  5.179801e-07  0.000885  0.000855  7.730764e-114  4.067322e-114   \n",
       "3  1.704245e-06  0.000739  0.000773   5.443738e-17   4.139999e-16   \n",
       "4  2.089590e-07  0.000751  0.000735   3.887821e-16   4.721269e-16   \n",
       "\n",
       "   authorities_s  authorities_d  \n",
       "0   9.226339e-16   2.231877e-15  \n",
       "1   1.208074e-11   1.273080e-10  \n",
       "2  2.681298e-113  2.199205e-113  \n",
       "3   2.413250e-14   6.688064e-15  \n",
       "4   7.552255e-16   2.734009e-18  \n",
       "\n",
       "[5 rows x 30 columns]"
      ]
     },
     "execution_count": 64,
     "metadata": {},
     "output_type": "execute_result"
    }
   ],
   "source": [
    "df_final_train.head()"
   ]
  },
  {
   "cell_type": "markdown",
   "metadata": {},
   "source": [
    "## 5.5 Adding new set of features\n",
    "\n",
    "__we will create these each of these features for both train and test data points__\n",
    "<ol>\n",
    "<li>SVD features for both source and destination</li>\n",
    "</ol>"
   ]
  },
  {
   "cell_type": "code",
   "execution_count": 65,
   "metadata": {},
   "outputs": [],
   "source": [
    "def svd(x, S):\n",
    "    try:\n",
    "        z = sadj_dict[x]\n",
    "        return S[z]\n",
    "    except:\n",
    "        return [0,0,0,0,0,0]"
   ]
  },
  {
   "cell_type": "code",
   "execution_count": 66,
   "metadata": {},
   "outputs": [],
   "source": [
    "#for svd features to get feature vector creating a dict node val and inedx in svd vector\n",
    "sadj_col = sorted(train_graph.nodes())\n",
    "sadj_dict = { val:idx for idx,val in enumerate(sadj_col)}"
   ]
  },
  {
   "cell_type": "code",
   "execution_count": 67,
   "metadata": {},
   "outputs": [],
   "source": [
    "Adj = nx.adjacency_matrix(train_graph,nodelist=sorted(train_graph.nodes())).asfptype()"
   ]
  },
  {
   "cell_type": "code",
   "execution_count": 68,
   "metadata": {},
   "outputs": [
    {
     "name": "stdout",
     "output_type": "stream",
     "text": [
      "Adjacency matrix Shape (1780722, 1780722)\n",
      "U Shape (1780722, 6)\n",
      "V Shape (6, 1780722)\n",
      "s Shape (6,)\n"
     ]
    }
   ],
   "source": [
    "from scipy.sparse.linalg import svds, eigs\n",
    "\n",
    "U, s, V = svds(Adj, k = 6)\n",
    "print('Adjacency matrix Shape',Adj.shape)\n",
    "print('U Shape',U.shape)\n",
    "print('V Shape',V.shape)\n",
    "print('s Shape',s.shape)"
   ]
  },
  {
   "cell_type": "code",
   "execution_count": 69,
   "metadata": {},
   "outputs": [],
   "source": [
    "if not os.path.isfile('data/fea_sample/storage_sample_stage4.h5'):\n",
    "    #===================================================================================================\n",
    "    \n",
    "    df_final_train[['svd_u_s_1', 'svd_u_s_2','svd_u_s_3', 'svd_u_s_4', 'svd_u_s_5', 'svd_u_s_6']] = \\\n",
    "    df_final_train.source_node.apply(lambda x: svd(x, U)).apply(pd.Series)\n",
    "    \n",
    "    df_final_train[['svd_u_d_1', 'svd_u_d_2', 'svd_u_d_3', 'svd_u_d_4', 'svd_u_d_5','svd_u_d_6']] = \\\n",
    "    df_final_train.destination_node.apply(lambda x: svd(x, U)).apply(pd.Series)\n",
    "    #===================================================================================================\n",
    "    \n",
    "    df_final_train[['svd_v_s_1','svd_v_s_2', 'svd_v_s_3', 'svd_v_s_4', 'svd_v_s_5', 'svd_v_s_6',]] = \\\n",
    "    df_final_train.source_node.apply(lambda x: svd(x, V.T)).apply(pd.Series)\n",
    "\n",
    "    df_final_train[['svd_v_d_1', 'svd_v_d_2', 'svd_v_d_3', 'svd_v_d_4', 'svd_v_d_5','svd_v_d_6']] = \\\n",
    "    df_final_train.destination_node.apply(lambda x: svd(x, V.T)).apply(pd.Series)\n",
    "    #===================================================================================================\n",
    "    \n",
    "    df_final_test[['svd_u_s_1', 'svd_u_s_2','svd_u_s_3', 'svd_u_s_4', 'svd_u_s_5', 'svd_u_s_6']] = \\\n",
    "    df_final_test.source_node.apply(lambda x: svd(x, U)).apply(pd.Series)\n",
    "    \n",
    "    df_final_test[['svd_u_d_1', 'svd_u_d_2', 'svd_u_d_3', 'svd_u_d_4', 'svd_u_d_5','svd_u_d_6']] = \\\n",
    "    df_final_test.destination_node.apply(lambda x: svd(x, U)).apply(pd.Series)\n",
    "\n",
    "    #===================================================================================================\n",
    "    \n",
    "    df_final_test[['svd_v_s_1','svd_v_s_2', 'svd_v_s_3', 'svd_v_s_4', 'svd_v_s_5', 'svd_v_s_6',]] = \\\n",
    "    df_final_test.source_node.apply(lambda x: svd(x, V.T)).apply(pd.Series)\n",
    "\n",
    "    df_final_test[['svd_v_d_1', 'svd_v_d_2', 'svd_v_d_3', 'svd_v_d_4', 'svd_v_d_5','svd_v_d_6']] = \\\n",
    "    df_final_test.destination_node.apply(lambda x: svd(x, V.T)).apply(pd.Series)\n",
    "    #===================================================================================================\n",
    "\n",
    "    \n",
    "    hdf = HDFStore('data/fea_sample/storage_sample_stage4.h5')\n",
    "    hdf.put('train_df',df_final_train, format='table', data_columns=True)\n",
    "    hdf.put('test_df',df_final_test, format='table', data_columns=True)\n",
    "    hdf.close()\n",
    "    \n",
    "else:\n",
    "    df_final_train = read_hdf('data/fea_sample/storage_sample_stage4.h5', 'train_df',mode='r')\n",
    "    df_final_test = read_hdf('data/fea_sample/storage_sample_stage4.h5', 'test_df',mode='r')"
   ]
  },
  {
   "cell_type": "code",
   "execution_count": 70,
   "metadata": {
    "scrolled": true
   },
   "outputs": [
    {
     "data": {
      "text/html": [
       "<div>\n",
       "<style scoped>\n",
       "    .dataframe tbody tr th:only-of-type {\n",
       "        vertical-align: middle;\n",
       "    }\n",
       "\n",
       "    .dataframe tbody tr th {\n",
       "        vertical-align: top;\n",
       "    }\n",
       "\n",
       "    .dataframe thead th {\n",
       "        text-align: right;\n",
       "    }\n",
       "</style>\n",
       "<table border=\"1\" class=\"dataframe\">\n",
       "  <thead>\n",
       "    <tr style=\"text-align: right;\">\n",
       "      <th></th>\n",
       "      <th>source_node</th>\n",
       "      <th>destination_node</th>\n",
       "      <th>indicator_link</th>\n",
       "      <th>jaccard_followers</th>\n",
       "      <th>jaccard_followees</th>\n",
       "      <th>cosine_followers</th>\n",
       "      <th>cosine_followees</th>\n",
       "      <th>num_followers_s</th>\n",
       "      <th>num_followees_s</th>\n",
       "      <th>num_followees_d</th>\n",
       "      <th>...</th>\n",
       "      <th>svd_v_s_3</th>\n",
       "      <th>svd_v_s_4</th>\n",
       "      <th>svd_v_s_5</th>\n",
       "      <th>svd_v_s_6</th>\n",
       "      <th>svd_v_d_1</th>\n",
       "      <th>svd_v_d_2</th>\n",
       "      <th>svd_v_d_3</th>\n",
       "      <th>svd_v_d_4</th>\n",
       "      <th>svd_v_d_5</th>\n",
       "      <th>svd_v_d_6</th>\n",
       "    </tr>\n",
       "  </thead>\n",
       "  <tbody>\n",
       "    <tr>\n",
       "      <th>0</th>\n",
       "      <td>273084</td>\n",
       "      <td>1505602</td>\n",
       "      <td>1</td>\n",
       "      <td>0</td>\n",
       "      <td>0.000000</td>\n",
       "      <td>0.000000</td>\n",
       "      <td>0.000000</td>\n",
       "      <td>6</td>\n",
       "      <td>15</td>\n",
       "      <td>8</td>\n",
       "      <td>...</td>\n",
       "      <td>1.983691e-06</td>\n",
       "      <td>1.545075e-13</td>\n",
       "      <td>8.108434e-13</td>\n",
       "      <td>1.719702e-14</td>\n",
       "      <td>-1.355368e-12</td>\n",
       "      <td>4.675307e-13</td>\n",
       "      <td>1.128591e-06</td>\n",
       "      <td>6.616550e-14</td>\n",
       "      <td>9.771077e-13</td>\n",
       "      <td>4.159752e-14</td>\n",
       "    </tr>\n",
       "    <tr>\n",
       "      <th>1</th>\n",
       "      <td>832016</td>\n",
       "      <td>1543415</td>\n",
       "      <td>1</td>\n",
       "      <td>0</td>\n",
       "      <td>0.187135</td>\n",
       "      <td>0.028382</td>\n",
       "      <td>0.343828</td>\n",
       "      <td>94</td>\n",
       "      <td>61</td>\n",
       "      <td>142</td>\n",
       "      <td>...</td>\n",
       "      <td>-6.236048e-11</td>\n",
       "      <td>1.345726e-02</td>\n",
       "      <td>3.703479e-12</td>\n",
       "      <td>2.251737e-10</td>\n",
       "      <td>1.245101e-12</td>\n",
       "      <td>-1.636948e-10</td>\n",
       "      <td>-3.112650e-10</td>\n",
       "      <td>6.738902e-02</td>\n",
       "      <td>2.607801e-11</td>\n",
       "      <td>2.372904e-09</td>\n",
       "    </tr>\n",
       "    <tr>\n",
       "      <th>2</th>\n",
       "      <td>1325247</td>\n",
       "      <td>760242</td>\n",
       "      <td>1</td>\n",
       "      <td>0</td>\n",
       "      <td>0.369565</td>\n",
       "      <td>0.156957</td>\n",
       "      <td>0.566038</td>\n",
       "      <td>28</td>\n",
       "      <td>41</td>\n",
       "      <td>22</td>\n",
       "      <td>...</td>\n",
       "      <td>-2.380564e-19</td>\n",
       "      <td>-7.021227e-19</td>\n",
       "      <td>1.940403e-19</td>\n",
       "      <td>-3.365389e-19</td>\n",
       "      <td>-1.238370e-18</td>\n",
       "      <td>1.438175e-19</td>\n",
       "      <td>-1.852863e-19</td>\n",
       "      <td>-5.901864e-19</td>\n",
       "      <td>1.629341e-19</td>\n",
       "      <td>-2.572452e-19</td>\n",
       "    </tr>\n",
       "    <tr>\n",
       "      <th>3</th>\n",
       "      <td>1368400</td>\n",
       "      <td>1006992</td>\n",
       "      <td>1</td>\n",
       "      <td>0</td>\n",
       "      <td>0.000000</td>\n",
       "      <td>0.000000</td>\n",
       "      <td>0.000000</td>\n",
       "      <td>11</td>\n",
       "      <td>5</td>\n",
       "      <td>7</td>\n",
       "      <td>...</td>\n",
       "      <td>6.058498e-11</td>\n",
       "      <td>1.514614e-11</td>\n",
       "      <td>1.513483e-12</td>\n",
       "      <td>4.498061e-13</td>\n",
       "      <td>-9.818087e-10</td>\n",
       "      <td>3.454672e-11</td>\n",
       "      <td>5.213635e-08</td>\n",
       "      <td>9.595823e-13</td>\n",
       "      <td>3.047045e-10</td>\n",
       "      <td>1.246592e-13</td>\n",
       "    </tr>\n",
       "    <tr>\n",
       "      <th>4</th>\n",
       "      <td>140165</td>\n",
       "      <td>1708748</td>\n",
       "      <td>1</td>\n",
       "      <td>0</td>\n",
       "      <td>0.000000</td>\n",
       "      <td>0.000000</td>\n",
       "      <td>0.000000</td>\n",
       "      <td>1</td>\n",
       "      <td>11</td>\n",
       "      <td>3</td>\n",
       "      <td>...</td>\n",
       "      <td>1.197283e-07</td>\n",
       "      <td>1.999809e-14</td>\n",
       "      <td>3.360247e-13</td>\n",
       "      <td>1.407670e-14</td>\n",
       "      <td>0.000000e+00</td>\n",
       "      <td>0.000000e+00</td>\n",
       "      <td>0.000000e+00</td>\n",
       "      <td>0.000000e+00</td>\n",
       "      <td>0.000000e+00</td>\n",
       "      <td>0.000000e+00</td>\n",
       "    </tr>\n",
       "  </tbody>\n",
       "</table>\n",
       "<p>5 rows × 54 columns</p>\n",
       "</div>"
      ],
      "text/plain": [
       "   source_node  destination_node  indicator_link  jaccard_followers  \\\n",
       "0       273084           1505602               1                  0   \n",
       "1       832016           1543415               1                  0   \n",
       "2      1325247            760242               1                  0   \n",
       "3      1368400           1006992               1                  0   \n",
       "4       140165           1708748               1                  0   \n",
       "\n",
       "   jaccard_followees  cosine_followers  cosine_followees  num_followers_s  \\\n",
       "0           0.000000          0.000000          0.000000                6   \n",
       "1           0.187135          0.028382          0.343828               94   \n",
       "2           0.369565          0.156957          0.566038               28   \n",
       "3           0.000000          0.000000          0.000000               11   \n",
       "4           0.000000          0.000000          0.000000                1   \n",
       "\n",
       "   num_followees_s  num_followees_d  ...     svd_v_s_3     svd_v_s_4  \\\n",
       "0               15                8  ...  1.983691e-06  1.545075e-13   \n",
       "1               61              142  ... -6.236048e-11  1.345726e-02   \n",
       "2               41               22  ... -2.380564e-19 -7.021227e-19   \n",
       "3                5                7  ...  6.058498e-11  1.514614e-11   \n",
       "4               11                3  ...  1.197283e-07  1.999809e-14   \n",
       "\n",
       "      svd_v_s_5     svd_v_s_6     svd_v_d_1     svd_v_d_2     svd_v_d_3  \\\n",
       "0  8.108434e-13  1.719702e-14 -1.355368e-12  4.675307e-13  1.128591e-06   \n",
       "1  3.703479e-12  2.251737e-10  1.245101e-12 -1.636948e-10 -3.112650e-10   \n",
       "2  1.940403e-19 -3.365389e-19 -1.238370e-18  1.438175e-19 -1.852863e-19   \n",
       "3  1.513483e-12  4.498061e-13 -9.818087e-10  3.454672e-11  5.213635e-08   \n",
       "4  3.360247e-13  1.407670e-14  0.000000e+00  0.000000e+00  0.000000e+00   \n",
       "\n",
       "      svd_v_d_4     svd_v_d_5     svd_v_d_6  \n",
       "0  6.616550e-14  9.771077e-13  4.159752e-14  \n",
       "1  6.738902e-02  2.607801e-11  2.372904e-09  \n",
       "2 -5.901864e-19  1.629341e-19 -2.572452e-19  \n",
       "3  9.595823e-13  3.047045e-10  1.246592e-13  \n",
       "4  0.000000e+00  0.000000e+00  0.000000e+00  \n",
       "\n",
       "[5 rows x 54 columns]"
      ]
     },
     "execution_count": 70,
     "metadata": {},
     "output_type": "execute_result"
    }
   ],
   "source": [
    "df_final_train.head()"
   ]
  },
  {
   "cell_type": "markdown",
   "metadata": {},
   "source": [
    "## 5.6 Adding new set of features\n",
    "\n",
    "__we will create these each of these features for both train and test data points__\n",
    "<ol>\n",
    "<li>SVD dot</li>\n",
    "<li>preferential attachment</li>\n",
    "</ol>"
   ]
  },
  {
   "cell_type": "code",
   "execution_count": 71,
   "metadata": {},
   "outputs": [],
   "source": [
    "def dot_svd(a,b,U,V):\n",
    "    svd_s= svd(a,U)\n",
    "    svd_d=svd(b,V)\n",
    "    dot_svd_= np.dot(svd_s,svd_d)\n",
    "    \n",
    "    return dot_svd_"
   ]
  },
  {
   "cell_type": "markdown",
   "metadata": {},
   "source": [
    "### peferential attachment\n",
    "you can check about preferential attachment in below link\n",
    "http://be.amazd.com/link-prediction/"
   ]
  },
  {
   "cell_type": "code",
   "execution_count": 72,
   "metadata": {},
   "outputs": [],
   "source": [
    "def calc_pref_attatch_followees(a,b):\n",
    "    try:\n",
    "        #preferential attachment for followers\n",
    "        n=len(list(train_graph.successors(a))) * len(list(train_graph.successors(b)))\n",
    "        return n\n",
    "    \n",
    "    except:\n",
    "        return 0\n",
    "    "
   ]
  },
  {
   "cell_type": "code",
   "execution_count": 73,
   "metadata": {},
   "outputs": [],
   "source": [
    "def calc_pref_attatch_followers(a,b):\n",
    "    try:\n",
    "        m=len(list(train_graph.predecessors(a))) * len(list(train_graph.predecessors(b)))\n",
    "        return m\n",
    "    \n",
    "    except:\n",
    "        return 0\n",
    "    "
   ]
  },
  {
   "cell_type": "code",
   "execution_count": 74,
   "metadata": {},
   "outputs": [],
   "source": [
    "if not os.path.isfile('data/fea_sample/storage_sample_stage5.h5'):\n",
    "    #===============================================================================================\n",
    "    #mapping same component of wcc or not on train\n",
    "    df_final_train['pref_attach_followers'] = df_final_train.apply(lambda row: calc_pref_attatch_followers(row['source_node'],row['destination_node']),axis=1)\n",
    "    df_final_train['pref_attach_followees'] = df_final_train.apply(lambda row: calc_pref_attatch_followees(row['source_node'],row['destination_node']),axis=1)\n",
    "\n",
    "    ##mapping same component of wcc or not on train\n",
    "    df_final_test['pref_attach_followers'] = df_final_test.apply(lambda row: calc_pref_attatch_followers(row['source_node'],row['destination_node']),axis=1)\n",
    "    df_final_test['pref_attach_followees'] = df_final_test.apply(lambda row: calc_pref_attatch_followees(row['source_node'],row['destination_node']),axis=1)\n",
    "    \n",
    "    #===================================================================================================\n",
    "\n",
    "    df_final_train['dot_svd'] = df_final_train.apply(lambda row: dot_svd(row['source_node'],row['destination_node'],U,V.T),axis=1)\n",
    "    df_final_test['dot_svd'] = df_final_test.apply(lambda row: dot_svd(row['source_node'],row['destination_node'],U,V.T),axis=1)\n",
    "    \n",
    "    hdf = HDFStore('data/fea_sample/storage_sample_stage5.h5')\n",
    "    hdf.put('train_df',df_final_train, format='table', data_columns=True)\n",
    "    hdf.put('test_df',df_final_test, format='table', data_columns=True)\n",
    "    hdf.close()\n",
    "    \n",
    "else:\n",
    "    df_final_train = read_hdf('data/fea_sample/storage_sample_stage5.h5', 'train_df',mode='r')\n",
    "    df_final_test = read_hdf('data/fea_sample/storage_sample_stage5.h5', 'test_df',mode='r')"
   ]
  },
  {
   "cell_type": "code",
   "execution_count": 75,
   "metadata": {},
   "outputs": [
    {
     "data": {
      "text/html": [
       "<div>\n",
       "<style scoped>\n",
       "    .dataframe tbody tr th:only-of-type {\n",
       "        vertical-align: middle;\n",
       "    }\n",
       "\n",
       "    .dataframe tbody tr th {\n",
       "        vertical-align: top;\n",
       "    }\n",
       "\n",
       "    .dataframe thead th {\n",
       "        text-align: right;\n",
       "    }\n",
       "</style>\n",
       "<table border=\"1\" class=\"dataframe\">\n",
       "  <thead>\n",
       "    <tr style=\"text-align: right;\">\n",
       "      <th></th>\n",
       "      <th>source_node</th>\n",
       "      <th>destination_node</th>\n",
       "      <th>indicator_link</th>\n",
       "      <th>jaccard_followers</th>\n",
       "      <th>jaccard_followees</th>\n",
       "      <th>cosine_followers</th>\n",
       "      <th>cosine_followees</th>\n",
       "      <th>num_followers_s</th>\n",
       "      <th>num_followees_s</th>\n",
       "      <th>num_followees_d</th>\n",
       "      <th>...</th>\n",
       "      <th>svd_v_s_6</th>\n",
       "      <th>svd_v_d_1</th>\n",
       "      <th>svd_v_d_2</th>\n",
       "      <th>svd_v_d_3</th>\n",
       "      <th>svd_v_d_4</th>\n",
       "      <th>svd_v_d_5</th>\n",
       "      <th>svd_v_d_6</th>\n",
       "      <th>pref_attach_followers</th>\n",
       "      <th>pref_attach_followees</th>\n",
       "      <th>dot_svd</th>\n",
       "    </tr>\n",
       "  </thead>\n",
       "  <tbody>\n",
       "    <tr>\n",
       "      <th>0</th>\n",
       "      <td>273084</td>\n",
       "      <td>1505602</td>\n",
       "      <td>1</td>\n",
       "      <td>0</td>\n",
       "      <td>0.000000</td>\n",
       "      <td>0.000000</td>\n",
       "      <td>0.000000</td>\n",
       "      <td>6</td>\n",
       "      <td>15</td>\n",
       "      <td>8</td>\n",
       "      <td>...</td>\n",
       "      <td>1.719702e-14</td>\n",
       "      <td>-1.355368e-12</td>\n",
       "      <td>4.675307e-13</td>\n",
       "      <td>1.128591e-06</td>\n",
       "      <td>6.616550e-14</td>\n",
       "      <td>9.771077e-13</td>\n",
       "      <td>4.159752e-14</td>\n",
       "      <td>66</td>\n",
       "      <td>120</td>\n",
       "      <td>1.177161e-11</td>\n",
       "    </tr>\n",
       "    <tr>\n",
       "      <th>1</th>\n",
       "      <td>832016</td>\n",
       "      <td>1543415</td>\n",
       "      <td>1</td>\n",
       "      <td>0</td>\n",
       "      <td>0.187135</td>\n",
       "      <td>0.028382</td>\n",
       "      <td>0.343828</td>\n",
       "      <td>94</td>\n",
       "      <td>61</td>\n",
       "      <td>142</td>\n",
       "      <td>...</td>\n",
       "      <td>2.251737e-10</td>\n",
       "      <td>1.245101e-12</td>\n",
       "      <td>-1.636948e-10</td>\n",
       "      <td>-3.112650e-10</td>\n",
       "      <td>6.738902e-02</td>\n",
       "      <td>2.607801e-11</td>\n",
       "      <td>2.372904e-09</td>\n",
       "      <td>1598</td>\n",
       "      <td>8662</td>\n",
       "      <td>2.496774e-03</td>\n",
       "    </tr>\n",
       "    <tr>\n",
       "      <th>2</th>\n",
       "      <td>1325247</td>\n",
       "      <td>760242</td>\n",
       "      <td>1</td>\n",
       "      <td>0</td>\n",
       "      <td>0.369565</td>\n",
       "      <td>0.156957</td>\n",
       "      <td>0.566038</td>\n",
       "      <td>28</td>\n",
       "      <td>41</td>\n",
       "      <td>22</td>\n",
       "      <td>...</td>\n",
       "      <td>-3.365389e-19</td>\n",
       "      <td>-1.238370e-18</td>\n",
       "      <td>1.438175e-19</td>\n",
       "      <td>-1.852863e-19</td>\n",
       "      <td>-5.901864e-19</td>\n",
       "      <td>1.629341e-19</td>\n",
       "      <td>-2.572452e-19</td>\n",
       "      <td>980</td>\n",
       "      <td>902</td>\n",
       "      <td>1.260904e-35</td>\n",
       "    </tr>\n",
       "    <tr>\n",
       "      <th>3</th>\n",
       "      <td>1368400</td>\n",
       "      <td>1006992</td>\n",
       "      <td>1</td>\n",
       "      <td>0</td>\n",
       "      <td>0.000000</td>\n",
       "      <td>0.000000</td>\n",
       "      <td>0.000000</td>\n",
       "      <td>11</td>\n",
       "      <td>5</td>\n",
       "      <td>7</td>\n",
       "      <td>...</td>\n",
       "      <td>4.498061e-13</td>\n",
       "      <td>-9.818087e-10</td>\n",
       "      <td>3.454672e-11</td>\n",
       "      <td>5.213635e-08</td>\n",
       "      <td>9.595823e-13</td>\n",
       "      <td>3.047045e-10</td>\n",
       "      <td>1.246592e-13</td>\n",
       "      <td>22</td>\n",
       "      <td>35</td>\n",
       "      <td>2.651939e-17</td>\n",
       "    </tr>\n",
       "    <tr>\n",
       "      <th>4</th>\n",
       "      <td>140165</td>\n",
       "      <td>1708748</td>\n",
       "      <td>1</td>\n",
       "      <td>0</td>\n",
       "      <td>0.000000</td>\n",
       "      <td>0.000000</td>\n",
       "      <td>0.000000</td>\n",
       "      <td>1</td>\n",
       "      <td>11</td>\n",
       "      <td>3</td>\n",
       "      <td>...</td>\n",
       "      <td>1.407670e-14</td>\n",
       "      <td>0.000000e+00</td>\n",
       "      <td>0.000000e+00</td>\n",
       "      <td>0.000000e+00</td>\n",
       "      <td>0.000000e+00</td>\n",
       "      <td>0.000000e+00</td>\n",
       "      <td>0.000000e+00</td>\n",
       "      <td>5</td>\n",
       "      <td>33</td>\n",
       "      <td>9.885241e-16</td>\n",
       "    </tr>\n",
       "  </tbody>\n",
       "</table>\n",
       "<p>5 rows × 57 columns</p>\n",
       "</div>"
      ],
      "text/plain": [
       "   source_node  destination_node  indicator_link  jaccard_followers  \\\n",
       "0       273084           1505602               1                  0   \n",
       "1       832016           1543415               1                  0   \n",
       "2      1325247            760242               1                  0   \n",
       "3      1368400           1006992               1                  0   \n",
       "4       140165           1708748               1                  0   \n",
       "\n",
       "   jaccard_followees  cosine_followers  cosine_followees  num_followers_s  \\\n",
       "0           0.000000          0.000000          0.000000                6   \n",
       "1           0.187135          0.028382          0.343828               94   \n",
       "2           0.369565          0.156957          0.566038               28   \n",
       "3           0.000000          0.000000          0.000000               11   \n",
       "4           0.000000          0.000000          0.000000                1   \n",
       "\n",
       "   num_followees_s  num_followees_d  ...     svd_v_s_6     svd_v_d_1  \\\n",
       "0               15                8  ...  1.719702e-14 -1.355368e-12   \n",
       "1               61              142  ...  2.251737e-10  1.245101e-12   \n",
       "2               41               22  ... -3.365389e-19 -1.238370e-18   \n",
       "3                5                7  ...  4.498061e-13 -9.818087e-10   \n",
       "4               11                3  ...  1.407670e-14  0.000000e+00   \n",
       "\n",
       "      svd_v_d_2     svd_v_d_3     svd_v_d_4     svd_v_d_5     svd_v_d_6  \\\n",
       "0  4.675307e-13  1.128591e-06  6.616550e-14  9.771077e-13  4.159752e-14   \n",
       "1 -1.636948e-10 -3.112650e-10  6.738902e-02  2.607801e-11  2.372904e-09   \n",
       "2  1.438175e-19 -1.852863e-19 -5.901864e-19  1.629341e-19 -2.572452e-19   \n",
       "3  3.454672e-11  5.213635e-08  9.595823e-13  3.047045e-10  1.246592e-13   \n",
       "4  0.000000e+00  0.000000e+00  0.000000e+00  0.000000e+00  0.000000e+00   \n",
       "\n",
       "   pref_attach_followers  pref_attach_followees       dot_svd  \n",
       "0                     66                    120  1.177161e-11  \n",
       "1                   1598                   8662  2.496774e-03  \n",
       "2                    980                    902  1.260904e-35  \n",
       "3                     22                     35  2.651939e-17  \n",
       "4                      5                     33  9.885241e-16  \n",
       "\n",
       "[5 rows x 57 columns]"
      ]
     },
     "execution_count": 75,
     "metadata": {},
     "output_type": "execute_result"
    }
   ],
   "source": [
    "df_final_train.head()"
   ]
  },
  {
   "cell_type": "code",
   "execution_count": 76,
   "metadata": {},
   "outputs": [
    {
     "data": {
      "text/html": [
       "<div>\n",
       "<style scoped>\n",
       "    .dataframe tbody tr th:only-of-type {\n",
       "        vertical-align: middle;\n",
       "    }\n",
       "\n",
       "    .dataframe tbody tr th {\n",
       "        vertical-align: top;\n",
       "    }\n",
       "\n",
       "    .dataframe thead th {\n",
       "        text-align: right;\n",
       "    }\n",
       "</style>\n",
       "<table border=\"1\" class=\"dataframe\">\n",
       "  <thead>\n",
       "    <tr style=\"text-align: right;\">\n",
       "      <th></th>\n",
       "      <th>source_node</th>\n",
       "      <th>destination_node</th>\n",
       "      <th>indicator_link</th>\n",
       "      <th>jaccard_followers</th>\n",
       "      <th>jaccard_followees</th>\n",
       "      <th>cosine_followers</th>\n",
       "      <th>cosine_followees</th>\n",
       "      <th>num_followers_s</th>\n",
       "      <th>num_followees_s</th>\n",
       "      <th>num_followees_d</th>\n",
       "      <th>...</th>\n",
       "      <th>svd_v_s_6</th>\n",
       "      <th>svd_v_d_1</th>\n",
       "      <th>svd_v_d_2</th>\n",
       "      <th>svd_v_d_3</th>\n",
       "      <th>svd_v_d_4</th>\n",
       "      <th>svd_v_d_5</th>\n",
       "      <th>svd_v_d_6</th>\n",
       "      <th>pref_attach_followers</th>\n",
       "      <th>pref_attach_followees</th>\n",
       "      <th>dot_svd</th>\n",
       "    </tr>\n",
       "  </thead>\n",
       "  <tbody>\n",
       "    <tr>\n",
       "      <th>0</th>\n",
       "      <td>848424</td>\n",
       "      <td>784690</td>\n",
       "      <td>1</td>\n",
       "      <td>0</td>\n",
       "      <td>0.0</td>\n",
       "      <td>0.029161</td>\n",
       "      <td>0.000000</td>\n",
       "      <td>14</td>\n",
       "      <td>6</td>\n",
       "      <td>9</td>\n",
       "      <td>...</td>\n",
       "      <td>5.535503e-14</td>\n",
       "      <td>-9.994076e-10</td>\n",
       "      <td>5.791910e-10</td>\n",
       "      <td>3.512364e-07</td>\n",
       "      <td>2.486658e-09</td>\n",
       "      <td>2.771146e-09</td>\n",
       "      <td>1.727694e-12</td>\n",
       "      <td>84</td>\n",
       "      <td>54</td>\n",
       "      <td>5.058925e-17</td>\n",
       "    </tr>\n",
       "    <tr>\n",
       "      <th>1</th>\n",
       "      <td>483294</td>\n",
       "      <td>1255532</td>\n",
       "      <td>1</td>\n",
       "      <td>0</td>\n",
       "      <td>0.0</td>\n",
       "      <td>0.000000</td>\n",
       "      <td>0.000000</td>\n",
       "      <td>17</td>\n",
       "      <td>1</td>\n",
       "      <td>19</td>\n",
       "      <td>...</td>\n",
       "      <td>4.701436e-15</td>\n",
       "      <td>-9.360516e-12</td>\n",
       "      <td>3.206809e-10</td>\n",
       "      <td>4.668696e-08</td>\n",
       "      <td>6.665777e-12</td>\n",
       "      <td>1.495979e-10</td>\n",
       "      <td>9.836670e-14</td>\n",
       "      <td>34</td>\n",
       "      <td>19</td>\n",
       "      <td>3.254376e-17</td>\n",
       "    </tr>\n",
       "    <tr>\n",
       "      <th>2</th>\n",
       "      <td>626190</td>\n",
       "      <td>1729265</td>\n",
       "      <td>1</td>\n",
       "      <td>0</td>\n",
       "      <td>0.0</td>\n",
       "      <td>0.000000</td>\n",
       "      <td>0.000000</td>\n",
       "      <td>10</td>\n",
       "      <td>16</td>\n",
       "      <td>9</td>\n",
       "      <td>...</td>\n",
       "      <td>4.199834e-14</td>\n",
       "      <td>-4.253075e-13</td>\n",
       "      <td>4.789463e-13</td>\n",
       "      <td>3.479824e-07</td>\n",
       "      <td>1.630549e-13</td>\n",
       "      <td>3.954708e-13</td>\n",
       "      <td>3.875785e-14</td>\n",
       "      <td>150</td>\n",
       "      <td>144</td>\n",
       "      <td>5.021607e-13</td>\n",
       "    </tr>\n",
       "    <tr>\n",
       "      <th>3</th>\n",
       "      <td>947219</td>\n",
       "      <td>425228</td>\n",
       "      <td>1</td>\n",
       "      <td>0</td>\n",
       "      <td>0.0</td>\n",
       "      <td>0.000000</td>\n",
       "      <td>0.000000</td>\n",
       "      <td>37</td>\n",
       "      <td>10</td>\n",
       "      <td>34</td>\n",
       "      <td>...</td>\n",
       "      <td>2.817657e-13</td>\n",
       "      <td>-2.162590e-11</td>\n",
       "      <td>6.939194e-12</td>\n",
       "      <td>1.879861e-05</td>\n",
       "      <td>4.384816e-12</td>\n",
       "      <td>1.239414e-11</td>\n",
       "      <td>6.483485e-13</td>\n",
       "      <td>407</td>\n",
       "      <td>340</td>\n",
       "      <td>1.483438e-10</td>\n",
       "    </tr>\n",
       "    <tr>\n",
       "      <th>4</th>\n",
       "      <td>991374</td>\n",
       "      <td>975044</td>\n",
       "      <td>1</td>\n",
       "      <td>0</td>\n",
       "      <td>0.2</td>\n",
       "      <td>0.042767</td>\n",
       "      <td>0.347833</td>\n",
       "      <td>27</td>\n",
       "      <td>15</td>\n",
       "      <td>27</td>\n",
       "      <td>...</td>\n",
       "      <td>9.656662e-14</td>\n",
       "      <td>-8.742904e-12</td>\n",
       "      <td>7.467370e-12</td>\n",
       "      <td>1.256880e-05</td>\n",
       "      <td>3.636983e-12</td>\n",
       "      <td>3.948463e-12</td>\n",
       "      <td>2.415863e-13</td>\n",
       "      <td>324</td>\n",
       "      <td>405</td>\n",
       "      <td>6.223898e-11</td>\n",
       "    </tr>\n",
       "  </tbody>\n",
       "</table>\n",
       "<p>5 rows × 57 columns</p>\n",
       "</div>"
      ],
      "text/plain": [
       "   source_node  destination_node  indicator_link  jaccard_followers  \\\n",
       "0       848424            784690               1                  0   \n",
       "1       483294           1255532               1                  0   \n",
       "2       626190           1729265               1                  0   \n",
       "3       947219            425228               1                  0   \n",
       "4       991374            975044               1                  0   \n",
       "\n",
       "   jaccard_followees  cosine_followers  cosine_followees  num_followers_s  \\\n",
       "0                0.0          0.029161          0.000000               14   \n",
       "1                0.0          0.000000          0.000000               17   \n",
       "2                0.0          0.000000          0.000000               10   \n",
       "3                0.0          0.000000          0.000000               37   \n",
       "4                0.2          0.042767          0.347833               27   \n",
       "\n",
       "   num_followees_s  num_followees_d  ...     svd_v_s_6     svd_v_d_1  \\\n",
       "0                6                9  ...  5.535503e-14 -9.994076e-10   \n",
       "1                1               19  ...  4.701436e-15 -9.360516e-12   \n",
       "2               16                9  ...  4.199834e-14 -4.253075e-13   \n",
       "3               10               34  ...  2.817657e-13 -2.162590e-11   \n",
       "4               15               27  ...  9.656662e-14 -8.742904e-12   \n",
       "\n",
       "      svd_v_d_2     svd_v_d_3     svd_v_d_4     svd_v_d_5     svd_v_d_6  \\\n",
       "0  5.791910e-10  3.512364e-07  2.486658e-09  2.771146e-09  1.727694e-12   \n",
       "1  3.206809e-10  4.668696e-08  6.665777e-12  1.495979e-10  9.836670e-14   \n",
       "2  4.789463e-13  3.479824e-07  1.630549e-13  3.954708e-13  3.875785e-14   \n",
       "3  6.939194e-12  1.879861e-05  4.384816e-12  1.239414e-11  6.483485e-13   \n",
       "4  7.467370e-12  1.256880e-05  3.636983e-12  3.948463e-12  2.415863e-13   \n",
       "\n",
       "   pref_attach_followers  pref_attach_followees       dot_svd  \n",
       "0                     84                     54  5.058925e-17  \n",
       "1                     34                     19  3.254376e-17  \n",
       "2                    150                    144  5.021607e-13  \n",
       "3                    407                    340  1.483438e-10  \n",
       "4                    324                    405  6.223898e-11  \n",
       "\n",
       "[5 rows x 57 columns]"
      ]
     },
     "execution_count": 76,
     "metadata": {},
     "output_type": "execute_result"
    }
   ],
   "source": [
    "df_final_test.head()"
   ]
  },
  {
   "cell_type": "code",
   "execution_count": 77,
   "metadata": {},
   "outputs": [],
   "source": [
    "#reading\n",
    "from pandas import read_hdf\n",
    "df_final_train = read_hdf('data/fea_sample/storage_sample_stage5.h5', 'train_df',mode='r')\n",
    "df_final_test = read_hdf('data/fea_sample/storage_sample_stage5.h5', 'test_df',mode='r')"
   ]
  },
  {
   "cell_type": "code",
   "execution_count": 78,
   "metadata": {},
   "outputs": [
    {
     "data": {
      "text/plain": [
       "Index(['source_node', 'destination_node', 'indicator_link',\n",
       "       'jaccard_followers', 'jaccard_followees', 'cosine_followers',\n",
       "       'cosine_followees', 'num_followers_s', 'num_followees_s',\n",
       "       'num_followees_d', 'inter_followers', 'inter_followees', 'adar_index',\n",
       "       'follows_back', 'same_comp', 'shortest_path', 'weight_in', 'weight_out',\n",
       "       'weight_f1', 'weight_f2', 'weight_f3', 'weight_f4', 'page_rank_s',\n",
       "       'page_rank_d', 'katz_s', 'katz_d', 'hubs_s', 'hubs_d', 'authorities_s',\n",
       "       'authorities_d', 'svd_u_s_1', 'svd_u_s_2', 'svd_u_s_3', 'svd_u_s_4',\n",
       "       'svd_u_s_5', 'svd_u_s_6', 'svd_u_d_1', 'svd_u_d_2', 'svd_u_d_3',\n",
       "       'svd_u_d_4', 'svd_u_d_5', 'svd_u_d_6', 'svd_v_s_1', 'svd_v_s_2',\n",
       "       'svd_v_s_3', 'svd_v_s_4', 'svd_v_s_5', 'svd_v_s_6', 'svd_v_d_1',\n",
       "       'svd_v_d_2', 'svd_v_d_3', 'svd_v_d_4', 'svd_v_d_5', 'svd_v_d_6',\n",
       "       'pref_attach_followers', 'pref_attach_followees', 'dot_svd'],\n",
       "      dtype='object')"
      ]
     },
     "execution_count": 78,
     "metadata": {},
     "output_type": "execute_result"
    }
   ],
   "source": [
    "df_final_train.columns"
   ]
  },
  {
   "cell_type": "code",
   "execution_count": 79,
   "metadata": {},
   "outputs": [],
   "source": [
    "y_train = df_final_train.indicator_link\n",
    "y_test = df_final_test.indicator_link"
   ]
  },
  {
   "cell_type": "code",
   "execution_count": 80,
   "metadata": {},
   "outputs": [],
   "source": [
    "df_final_train.drop(['source_node', 'destination_node','indicator_link'],axis=1,inplace=True)\n",
    "df_final_test.drop(['source_node', 'destination_node','indicator_link'],axis=1,inplace=True)"
   ]
  },
  {
   "cell_type": "code",
   "execution_count": 81,
   "metadata": {},
   "outputs": [],
   "source": [
    "from sklearn.ensemble import RandomForestClassifier\n",
    "from sklearn.metrics import f1_score"
   ]
  },
  {
   "cell_type": "code",
   "execution_count": 82,
   "metadata": {},
   "outputs": [
    {
     "name": "stdout",
     "output_type": "stream",
     "text": [
      "Estimators =  10 Train Score 0.9171651563563983 test Score 0.8856791773557247\n",
      "Estimators =  50 Train Score 0.9176244410080662 test Score 0.9128538477668274\n",
      "Estimators =  100 Train Score 0.9187563316588163 test Score 0.9138917412351475\n",
      "Estimators =  250 Train Score 0.920424403183024 test Score 0.9152499737972959\n",
      "Estimators =  450 Train Score 0.9210498819300774 test Score 0.9160164443325783\n"
     ]
    },
    {
     "data": {
      "text/plain": [
       "Text(0.5, 1.0, 'Estimators vs score at depth of 5')"
      ]
     },
     "execution_count": 82,
     "metadata": {},
     "output_type": "execute_result"
    },
    {
     "data": {
      "image/png": "[encoded data removed]",
      "text/plain": [
       "<Figure size 432x288 with 1 Axes>"
      ]
     },
     "metadata": {},
     "output_type": "display_data"
    }
   ],
   "source": [
    "estimators = [10,50,100,250,450]\n",
    "train_scores = []\n",
    "test_scores = []\n",
    "for i in estimators:\n",
    "    clf = RandomForestClassifier(bootstrap=True, class_weight=None, criterion='gini',\n",
    "            max_depth=5, max_features='auto', max_leaf_nodes=None,\n",
    "            min_impurity_decrease=0.0, min_impurity_split=None,\n",
    "            min_samples_leaf=52, min_samples_split=120,\n",
    "            min_weight_fraction_leaf=0.0, n_estimators=i, n_jobs=-1,random_state=25,verbose=0,warm_start=False)\n",
    "    clf.fit(df_final_train,y_train)\n",
    "    train_sc = f1_score(y_train,clf.predict(df_final_train))\n",
    "    test_sc = f1_score(y_test,clf.predict(df_final_test))\n",
    "    test_scores.append(test_sc)\n",
    "    train_scores.append(train_sc)\n",
    "    print('Estimators = ',i,'Train Score',train_sc,'test Score',test_sc)\n",
    "plt.plot(estimators,train_scores,label='Train Score')\n",
    "plt.plot(estimators,test_scores,label='Test Score')\n",
    "plt.xlabel('Estimators')\n",
    "plt.ylabel('Score')\n",
    "plt.title('Estimators vs score at depth of 5')"
   ]
  },
  {
   "cell_type": "code",
   "execution_count": 83,
   "metadata": {},
   "outputs": [
    {
     "name": "stdout",
     "output_type": "stream",
     "text": [
      "depth =  3 Train Score 0.8863741049369791 test Score 0.865362043577541\n",
      "depth =  9 Train Score 0.9574129271977462 test Score 0.9227748691099477\n",
      "depth =  11 Train Score 0.961421009771987 test Score 0.9221103401590792\n",
      "depth =  15 Train Score 0.9635052779946661 test Score 0.9254679284963196\n",
      "depth =  20 Train Score 0.9640814086997165 test Score 0.926396153197233\n",
      "depth =  35 Train Score 0.9637093088212889 test Score 0.9260672499209445\n",
      "depth =  50 Train Score 0.9637093088212889 test Score 0.9260672499209445\n",
      "depth =  70 Train Score 0.9637093088212889 test Score 0.9260672499209445\n",
      "depth =  130 Train Score 0.9637093088212889 test Score 0.9260672499209445\n"
     ]
    },
    {
     "data": {
      "image/png": "[encoded data removed]",
      "text/plain": [
       "<Figure size 432x288 with 1 Axes>"
      ]
     },
     "metadata": {},
     "output_type": "display_data"
    }
   ],
   "source": [
    "depths = [3,9,11,15,20,35,50,70,130]\n",
    "train_scores = []\n",
    "test_scores = []\n",
    "for i in depths:\n",
    "    clf = RandomForestClassifier(bootstrap=True, class_weight=None, criterion='gini',\n",
    "            max_depth=i, max_features='auto', max_leaf_nodes=None,\n",
    "            min_impurity_decrease=0.0, min_impurity_split=None,\n",
    "            min_samples_leaf=52, min_samples_split=120,\n",
    "            min_weight_fraction_leaf=0.0, n_estimators=115, n_jobs=-1,random_state=25,verbose=0,warm_start=False)\n",
    "    clf.fit(df_final_train,y_train)\n",
    "    train_sc = f1_score(y_train,clf.predict(df_final_train))\n",
    "    test_sc = f1_score(y_test,clf.predict(df_final_test))\n",
    "    test_scores.append(test_sc)\n",
    "    train_scores.append(train_sc)\n",
    "    print('depth = ',i,'Train Score',train_sc,'test Score',test_sc)\n",
    "plt.plot(depths,train_scores,label='Train Score')\n",
    "plt.plot(depths,test_scores,label='Test Score')\n",
    "plt.xlabel('Depth')\n",
    "plt.ylabel('Score')\n",
    "plt.title('Depth vs score at depth of 5 at estimators = 115')\n",
    "plt.show()"
   ]
  },
  {
   "cell_type": "code",
   "execution_count": 85,
   "metadata": {},
   "outputs": [
    {
     "name": "stdout",
     "output_type": "stream",
     "text": [
      "mean test scores [0.96231805 0.96162322 0.96070498 0.96192784 0.96334484]\n"
     ]
    }
   ],
   "source": [
    "from sklearn.metrics import f1_score\n",
    "from sklearn.ensemble import RandomForestClassifier\n",
    "from sklearn.metrics import f1_score\n",
    "from sklearn.model_selection import RandomizedSearchCV\n",
    "from scipy.stats import randint as sp_randint\n",
    "from scipy.stats import uniform\n",
    "\n",
    "param_dist = {\"n_estimators\":sp_randint(105,125),\n",
    "              \"max_depth\": sp_randint(10,15),\n",
    "              \"min_samples_split\": sp_randint(110,190),\n",
    "              \"min_samples_leaf\": sp_randint(25,65)}\n",
    "\n",
    "clf = RandomForestClassifier(random_state=25,n_jobs=-1)\n",
    "\n",
    "rf_random = RandomizedSearchCV(clf, param_distributions=param_dist,\n",
    "                                   n_iter=5,cv=10,scoring='f1',random_state=25)\n",
    "\n",
    "rf_random.fit(df_final_train,y_train)\n",
    "print('mean test scores',rf_random.cv_results_['mean_test_score'])"
   ]
  },
  {
   "cell_type": "code",
   "execution_count": 86,
   "metadata": {},
   "outputs": [
    {
     "name": "stdout",
     "output_type": "stream",
     "text": [
      "RandomForestClassifier(max_depth=14, min_samples_leaf=28, min_samples_split=111,\n",
      "                       n_estimators=121, n_jobs=-1, random_state=25)\n"
     ]
    }
   ],
   "source": [
    "print(rf_random.best_estimator_)"
   ]
  },
  {
   "cell_type": "code",
   "execution_count": 87,
   "metadata": {},
   "outputs": [],
   "source": [
    "clf = RandomForestClassifier(bootstrap=True, class_weight=None, criterion='gini',\n",
    "            max_depth=14, max_features='auto', max_leaf_nodes=None,\n",
    "            min_impurity_decrease=0.0, min_impurity_split=None,\n",
    "            min_samples_leaf=28, min_samples_split=111,\n",
    "            min_weight_fraction_leaf=0.0, n_estimators=121, n_jobs=-1,\n",
    "            oob_score=False, random_state=25, verbose=0, warm_start=False)"
   ]
  },
  {
   "cell_type": "code",
   "execution_count": 88,
   "metadata": {},
   "outputs": [],
   "source": [
    "clf.fit(df_final_train,y_train)\n",
    "y_train_pred = clf.predict(df_final_train)\n",
    "y_test_pred = clf.predict(df_final_test)"
   ]
  },
  {
   "cell_type": "code",
   "execution_count": 89,
   "metadata": {},
   "outputs": [
    {
     "name": "stdout",
     "output_type": "stream",
     "text": [
      "Train f1 score 0.9648531828973803\n",
      "Test f1 score 0.9268354323743734\n"
     ]
    }
   ],
   "source": [
    "from sklearn.metrics import f1_score\n",
    "print('Train f1 score',f1_score(y_train,y_train_pred))\n",
    "print('Test f1 score',f1_score(y_test,y_test_pred))"
   ]
  },
  {
   "cell_type": "code",
   "execution_count": 90,
   "metadata": {},
   "outputs": [],
   "source": [
    "from sklearn.metrics import confusion_matrix\n",
    "def plot_confusion_matrix(test_y, predict_y):\n",
    "    C = confusion_matrix(test_y, predict_y)\n",
    "    \n",
    "    A =(((C.T)/(C.sum(axis=1))).T)\n",
    "    \n",
    "    B =(C/C.sum(axis=0))\n",
    "    plt.figure(figsize=(20,4))\n",
    "    \n",
    "    labels = [0,1]\n",
    "    # representing A in heatmap format\n",
    "    cmap=sns.light_palette(\"blue\")\n",
    "    plt.subplot(1, 3, 1)\n",
    "    sns.heatmap(C, annot=True, cmap=cmap, fmt=\".3f\", xticklabels=labels, yticklabels=labels)\n",
    "    plt.xlabel('Predicted Class')\n",
    "    plt.ylabel('Original Class')\n",
    "    plt.title(\"Confusion matrix\")\n",
    "    \n",
    "    plt.subplot(1, 3, 2)\n",
    "    sns.heatmap(B, annot=True, cmap=cmap, fmt=\".3f\", xticklabels=labels, yticklabels=labels)\n",
    "    plt.xlabel('Predicted Class')\n",
    "    plt.ylabel('Original Class')\n",
    "    plt.title(\"Precision matrix\")\n",
    "    \n",
    "    plt.subplot(1, 3, 3)\n",
    "    # representing B in heatmap format\n",
    "    sns.heatmap(A, annot=True, cmap=cmap, fmt=\".3f\", xticklabels=labels, yticklabels=labels)\n",
    "    plt.xlabel('Predicted Class')\n",
    "    plt.ylabel('Original Class')\n",
    "    plt.title(\"Recall matrix\")\n",
    "    \n",
    "    plt.show()"
   ]
  },
  {
   "cell_type": "code",
   "execution_count": 91,
   "metadata": {},
   "outputs": [
    {
     "name": "stdout",
     "output_type": "stream",
     "text": [
      "Train confusion_matrix\n"
     ]
    },
    {
     "data": {
      "image/png": "[encoded data removed]",
      "text/plain": [
       "<Figure size 1440x288 with 6 Axes>"
      ]
     },
     "metadata": {},
     "output_type": "display_data"
    },
    {
     "name": "stdout",
     "output_type": "stream",
     "text": [
      "Test confusion_matrix\n"
     ]
    },
    {
     "data": {
      "image/png": "[encoded data removed]",
      "text/plain": [
       "<Figure size 1440x288 with 6 Axes>"
      ]
     },
     "metadata": {},
     "output_type": "display_data"
    }
   ],
   "source": [
    "print('Train confusion_matrix')\n",
    "plot_confusion_matrix(y_train,y_train_pred)\n",
    "print('Test confusion_matrix')\n",
    "plot_confusion_matrix(y_test,y_test_pred)"
   ]
  },
  {
   "cell_type": "code",
   "execution_count": 92,
   "metadata": {},
   "outputs": [
    {
     "data": {
      "image/png": "[encoded data removed]",
      "text/plain": [
       "<Figure size 432x288 with 1 Axes>"
      ]
     },
     "metadata": {},
     "output_type": "display_data"
    }
   ],
   "source": [
    "from sklearn.metrics import roc_curve, auc\n",
    "fpr,tpr,ths = roc_curve(y_test,y_test_pred)\n",
    "auc_sc = auc(fpr, tpr)\n",
    "plt.plot(fpr, tpr, color='navy',label='ROC curve (area = %0.2f)' % auc_sc)\n",
    "plt.xlabel('False Positive Rate')\n",
    "plt.ylabel('True Positive Rate')\n",
    "plt.title('Receiver operating characteristic with test data')\n",
    "plt.legend()\n",
    "plt.show()"
   ]
  },
  {
   "cell_type": "code",
   "execution_count": 93,
   "metadata": {},
   "outputs": [
    {
     "data": {
      "image/png": "[encoded data removed]",
      "text/plain": [
       "<Figure size 720x864 with 1 Axes>"
      ]
     },
     "metadata": {},
     "output_type": "display_data"
    }
   ],
   "source": [
    "features = df_final_train.columns\n",
    "importances = clf.feature_importances_\n",
    "indices = (np.argsort(importances))[-25:]\n",
    "plt.figure(figsize=(10,12))\n",
    "plt.title('Feature Importances')\n",
    "plt.barh(range(len(indices)), importances[indices], color='r', align='center')\n",
    "plt.yticks(range(len(indices)), [features[i] for i in indices])\n",
    "plt.xlabel('Relative Importance')\n",
    "plt.show()"
   ]
  },
  {
   "cell_type": "code",
   "execution_count": null,
   "metadata": {},
   "outputs": [],
   "source": []
  }
 ],
 "metadata": {
  "colab": {
   "name": "FB_EDA.ipynb",
   "provenance": []
  },
  "kernelspec": {
   "display_name": "Python 3",
   "language": "python",
   "name": "python3"
  },
  "language_info": {
   "codemirror_mode": {
    "name": "ipython",
    "version": 3
   },
   "file_extension": ".py",
   "mimetype": "text/x-python",
   "name": "python",
   "nbconvert_exporter": "python",
   "pygments_lexer": "ipython3",
   "version": "3.8.8"
  }
 },
 "nbformat": 4,
 "nbformat_minor": 1
}
